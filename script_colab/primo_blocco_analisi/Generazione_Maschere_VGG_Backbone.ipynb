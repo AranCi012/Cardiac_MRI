{
  "nbformat": 4,
  "nbformat_minor": 0,
  "metadata": {
    "colab": {
      "provenance": [],
      "gpuType": "T4"
    },
    "kernelspec": {
      "name": "python3",
      "display_name": "Python 3"
    },
    "language_info": {
      "name": "python"
    },
    "accelerator": "GPU"
  },
  "cells": [
    {
      "cell_type": "code",
      "execution_count": 1,
      "metadata": {
        "colab": {
          "base_uri": "https://localhost:8080/"
        },
        "id": "_XkHFiutXS_0",
        "outputId": "9cb4cdc5-b042-4ac4-8419-2cc39bbe5bcf"
      },
      "outputs": [
        {
          "output_type": "stream",
          "name": "stdout",
          "text": [
            "Drive already mounted at /content/drive; to attempt to forcibly remount, call drive.mount(\"/content/drive\", force_remount=True).\n"
          ]
        }
      ],
      "source": [
        "import os\n",
        "from PIL import Image\n",
        "from tqdm import tqdm\n",
        "import nibabel as nib\n",
        "import pandas as pd\n",
        "import numpy as np\n",
        "import torch\n",
        "import torch.nn as nn\n",
        "import torchvision.models as models\n",
        "import torch.optim as optim\n",
        "from torch.utils.data import DataLoader, random_split\n",
        "from torchvision import transforms, datasets\n",
        "import matplotlib.pyplot as plt\n",
        "from torch.utils.data import Dataset, DataLoader\n",
        "from sklearn.model_selection import train_test_split\n",
        "from google.colab import drive\n",
        "import torch.nn.functional as F\n",
        "\n",
        "drive.mount('/content/drive')"
      ]
    },
    {
      "cell_type": "code",
      "source": [
        "class DiceLoss(nn.Module):\n",
        "    def __init__(self):\n",
        "        super(DiceLoss, self).__init__()\n",
        "\n",
        "    def forward(self, outputs, targets, smooth=1e-6):\n",
        "        # Convert to float tensors\n",
        "        outputs = outputs.float()\n",
        "        targets = targets.float()\n",
        "\n",
        "        intersection = (outputs * targets).sum()\n",
        "        union = outputs.sum() + targets.sum()\n",
        "\n",
        "        dice_coeff = (2. * intersection + smooth) / (union + smooth)\n",
        "        return 1 - dice_coeff"
      ],
      "metadata": {
        "id": "JvSs62pzNbgL"
      },
      "execution_count": 2,
      "outputs": []
    },
    {
      "cell_type": "code",
      "source": [
        "class UNetVGG16(nn.Module):\n",
        "    def __init__(self, pretrained=True):\n",
        "        super(UNetVGG16, self).__init__()\n",
        "\n",
        "        # Carica VGG16 senza BatchNorm\n",
        "        vgg16 = models.vgg16(weights=models.VGG16_Weights.DEFAULT if pretrained else None).features\n",
        "\n",
        "        # Encoder (senza BatchNorm)\n",
        "        self.enc1 = nn.Sequential(\n",
        "            nn.Conv2d(1, 64, kernel_size=3, padding=1),\n",
        "            *vgg16[1:6]   #Usa il resto dei layer di vgg16[0:6]\n",
        "        )\n",
        "        self.enc2 = nn.Sequential(*vgg16[6:13])  # 160x160 -> 80x80\n",
        "        self.enc3 = nn.Sequential(*vgg16[13:23]) # 80x80 -> 40x40\n",
        "        self.enc4 = nn.Sequential(*vgg16[23:33]) # 40x40 -> 20x20\n",
        "        self.enc5 = nn.Sequential(*vgg16[33:43]) # 20x20 -> 10x10\n",
        "\n",
        "        # Bottleneck senza BatchNorm\n",
        "        self.bottleneck = nn.Sequential(\n",
        "            nn.Conv2d(512, 1024, kernel_size=3, padding=1),\n",
        "            nn.ReLU(inplace=True),\n",
        "            nn.Conv2d(1024, 1024, kernel_size=3, padding=1),\n",
        "            nn.ReLU(inplace=True)\n",
        "        )\n",
        "\n",
        "        # Decoder con upsampling tramite ConvTranspose2d\n",
        "        self.dec5 = nn.ConvTranspose2d(1024, 512, kernel_size=2, stride=2, padding=0)  # 10x10 -> 20x20\n",
        "        self.dec4 = nn.ConvTranspose2d(512, 256, kernel_size=2, stride=2, padding=0)   # 20x20 -> 40x40\n",
        "        self.dec3 = nn.ConvTranspose2d(256, 128, kernel_size=2, stride=2, padding=0)   # 40x40 -> 80x80\n",
        "        self.dec2 = nn.ConvTranspose2d(128, 64, kernel_size=2, stride=2, padding=0)    # 80x80 -> 160x160\n",
        "        self.dec1 = nn.ConvTranspose2d(64, 64, kernel_size=2, stride=2, padding=0)     # 80x80 -> 160x160\n",
        "\n",
        "        # Ultima convoluzione con Sigmoid\n",
        "        self.final_conv = nn.Conv2d(64, 1, kernel_size=1)\n",
        "\n",
        "    def forward(self, x):\n",
        "        # Encoder\n",
        "        enc1_out = self.enc1(x)  # 160x160\n",
        "        enc2_out = self.enc2(enc1_out)  # 80x80\n",
        "        enc3_out = self.enc3(enc2_out)  # 40x40\n",
        "        enc4_out = self.enc4(enc3_out)  # 20x20\n",
        "        enc5_out = self.enc5(enc4_out)  # 10x10\n",
        "\n",
        "        # Bottleneck\n",
        "        bottleneck_out = self.bottleneck(enc5_out)\n",
        "\n",
        "        # Decoder con upsampling\n",
        "        dec5_out = self.dec5(bottleneck_out)  # 10x10 -> 20x20\n",
        "        dec4_out = self.dec4(dec5_out)       # 20x20 -> 40x40\n",
        "        dec3_out = self.dec3(dec4_out)       # 40x40 -> 80x80\n",
        "        dec2_out = self.dec2(dec3_out)       # 80x80 -> 160x160\n",
        "        dec1_out = self.dec1(dec2_out)       # 80x80 -> 160x160\n",
        "\n",
        "        # Output finale con Sigmoid\n",
        "        out = self.final_conv(dec1_out)\n",
        "        return torch.sigmoid(out)"
      ],
      "metadata": {
        "id": "nYll89cIXmUR"
      },
      "execution_count": 3,
      "outputs": []
    },
    {
      "cell_type": "code",
      "source": [
        "def load_nii(file_path):\n",
        "    return nib.load(file_path).get_fdata()\n",
        "\n",
        "class MRI_Dataset(Dataset):\n",
        "    def __init__(self, image_paths, mask_paths, num_slices=5, transform=None):\n",
        "        self.image_paths = image_paths\n",
        "        self.mask_paths = mask_paths\n",
        "        self.num_slices = num_slices  # Numero di slice da prendere (centrale ±2)\n",
        "        self.transform = transform\n",
        "\n",
        "    def __len__(self):\n",
        "        return len(self.image_paths)\n",
        "\n",
        "    def __getitem__(self, idx):\n",
        "        # Carica il volume MRI e la maschera\n",
        "        img_nii = nib.load(self.image_paths[idx])\n",
        "        mask_nii = nib.load(self.mask_paths[idx])\n",
        "\n",
        "        img = img_nii.get_fdata()  # Shape (H, W, D)\n",
        "        mask = mask_nii.get_fdata()  # Shape (H, W, D)\n",
        "\n",
        "        # Prendi la slice centrale ±2\n",
        "        mid_slice = img.shape[2] // 2\n",
        "        slice_idxs = list(range(mid_slice - 2, mid_slice + 3))  # Es. [78, 79, 80, 81, 82]\n",
        "\n",
        "        img_slices = img[:, :, slice_idxs]  # (H, W, 5)\n",
        "        mask_slices = mask[:, :, slice_idxs]  # (H, W, 5)\n",
        "\n",
        "\n",
        "        # Converte in tensori PyTorch (5 canali per UNet)\n",
        "        img_tensor = torch.tensor(img_slices, dtype=torch.float32).permute(2, 0, 1)  # (C=5, H, W)\n",
        "        mask_tensor = torch.tensor(mask_slices, dtype=torch.float32).permute(2, 0, 1)  # (C=5, H, W)\n",
        "\n",
        "        img_tensor = img_tensor.unsqueeze(1)  # (num_slices, 1, Width, Height)\n",
        "        mask_tensor = mask_tensor.unsqueeze(1)\n",
        "\n",
        "        # Se necessario, applica le trasformazioni (es. resize a 160x160)\n",
        "        if self.transform:\n",
        "            img_tensor = self.transform(img_tensor)\n",
        "            mask_tensor = self.transform(mask_tensor)\n",
        "\n",
        "        return img_tensor, mask_tensor\n",
        "\n",
        "\n",
        "def train_unet(model, train_loader, val_loader, epochs=10, lr=0.001, device=\"cuda\"):\n",
        "    model.to(device)\n",
        "    criterion = DiceLoss()\n",
        "    optimizer = optim.Adam(model.parameters(), lr=lr)\n",
        "\n",
        "    for epoch in range(epochs):\n",
        "        print(f'Entro nel ciclo di addestramento della epoca: {epoch}')\n",
        "        model.train()\n",
        "        train_loss = 0.0\n",
        "\n",
        "        for imgs, masks in train_loader:\n",
        "            imgs, masks = imgs.to(device), masks.to(device)\n",
        "            # imgs ha forma [batch_size, N_slice, 1, 160, 160]\n",
        "            # masks ha forma [batch_size, N_slice, 1, 160, 160]\n",
        "\n",
        "            # Iterate over the batch size\n",
        "            for j in range(imgs.shape[0]):\n",
        "                # Iterate over the number of slices\n",
        "                for i in range(imgs.shape[1]):\n",
        "                    img_slice = imgs[j, i, :, :, :].unsqueeze(0)  # Select the slice and add channel dimension [1, 1, 160, 160]\n",
        "                    mask_slice = masks[j, i, :, :, :].unsqueeze(0)   # Select the slice and convert to long [1, 1, 160, 160]\n",
        "\n",
        "                    optimizer.zero_grad()\n",
        "                    output_slice = model(img_slice)  # Process the single slice\n",
        "                    loss = criterion(output_slice, mask_slice)\n",
        "                    loss.backward()\n",
        "                    optimizer.step()\n",
        "                    train_loss += loss.item()\n",
        "\n",
        "\n",
        "         # Validation\n",
        "        model.eval()\n",
        "        val_loss = 0.0\n",
        "        with torch.no_grad():\n",
        "            for imgs, masks in val_loader:\n",
        "                imgs, masks = imgs.to(device), masks.to(device)\n",
        "\n",
        "                # Iterate over the batch size\n",
        "                for j in range(imgs.shape[0]):\n",
        "                    # Iterate over the number of slices\n",
        "                    for i in range(imgs.shape[1]):\n",
        "                        img_slice = imgs[j, i, :, :, :].unsqueeze(0)  # Select the slice and add channel dimension [1, 1, 160, 160]\n",
        "                        mask_slice = masks[j, i, :, :, :].unsqueeze(0)   # Select the slice and convert to long [1, 1, 160, 160]\n",
        "\n",
        "                        #optimizer.zero_grad()\n",
        "                        output_slice = model(img_slice)  # Process the single slice\n",
        "                        loss = criterion(output_slice, mask_slice)\n",
        "\n",
        "                        val_loss += loss.item()\n",
        "\n",
        "        val_loss /= (len(val_loader) * imgs.shape[0] * imgs.shape[1]) # update the divisor\n",
        "\n",
        "        print(f\"Epoch {epoch+1}/{epochs} - Train Loss: {train_loss:.4f} - Val Loss: {val_loss:.4f}\")\n",
        "\n",
        "    return model\n",
        "\n",
        "# Funzione per salvare le segmentazioni\n",
        "def save_segmentations(model, test_loader):\n",
        "    model.eval()\n",
        "    os.makedirs(\"results\", exist_ok=True)\n",
        "\n",
        "    with torch.no_grad():\n",
        "        for idx, (image, mask) in enumerate(test_loader):\n",
        "            image = image.to(device)\n",
        "            output = model(image)\n",
        "            pred = torch.argmax(output, dim=1).cpu().numpy()\n",
        "\n",
        "            # Salva come file NIfTI\n",
        "            nifti_img = nib.Nifti1Image(pred, np.eye(4))\n",
        "            nib.save(nifti_img, f\"results/segmentation_{idx}.nii\")\n",
        "\n"
      ],
      "metadata": {
        "id": "I6Nhfa8JXqD-"
      },
      "execution_count": 10,
      "outputs": []
    },
    {
      "cell_type": "code",
      "source": [
        "sample_mask = load_nii('/content/drive/MyDrive/Colab Notebooks/Analisi_Cardiac_MRI/primo_blocco_analisi/database/training/patient001/patient001_frame01_gt_preprocessed.nii.gz')  # Sostituisci con un percorso valido\n",
        "\n",
        "# Trova i valori unici presenti nella maschera\n",
        "unique_classes = np.unique(sample_mask)\n",
        "\n",
        "print(\"Classi presenti nella maschera:\", unique_classes)"
      ],
      "metadata": {
        "colab": {
          "base_uri": "https://localhost:8080/"
        },
        "id": "dBVGiFOeSEDd",
        "outputId": "7e3980fb-6083-4476-a0a9-af449ed4eb67"
      },
      "execution_count": 5,
      "outputs": [
        {
          "output_type": "stream",
          "name": "stdout",
          "text": [
            "Classi presenti nella maschera: [0. 1. 2. 3.]\n"
          ]
        }
      ]
    },
    {
      "cell_type": "code",
      "source": [
        "# Preparazione dataset\n",
        "\n",
        "base_path = '/content/drive/MyDrive/Colab Notebooks/Analisi_Cardiac_MRI/primo_blocco_analisi/database/training'\n",
        "\n",
        "image_paths = []\n",
        "mask_paths = []\n",
        "\n",
        "for root, dirs, files in os.walk(base_path):\n",
        "    for file in files:\n",
        "        if \"preprocessed\" in file and \"_gt\" not in file:\n",
        "            image_paths.append(os.path.join(root, file))\n",
        "        elif \"preprocessed\" in file and \"_gt\" in file:\n",
        "            mask_paths.append(os.path.join(root, file))\n",
        "\n",
        "image_paths = sorted(image_paths)\n",
        "mask_paths = sorted(mask_paths)\n",
        "\n",
        "print(image_paths)\n",
        "print(mask_paths)"
      ],
      "metadata": {
        "colab": {
          "base_uri": "https://localhost:8080/"
        },
        "id": "jWjmxSQXXqST",
        "outputId": "5e0ee19f-1da0-4af3-bf44-22da70e2aecb"
      },
      "execution_count": 6,
      "outputs": [
        {
          "output_type": "stream",
          "name": "stdout",
          "text": [
            "['/content/drive/MyDrive/Colab Notebooks/Analisi_Cardiac_MRI/primo_blocco_analisi/database/training/patient001/patient001_frame01_preprocessed.nii.gz', '/content/drive/MyDrive/Colab Notebooks/Analisi_Cardiac_MRI/primo_blocco_analisi/database/training/patient001/patient001_frame12_preprocessed.nii.gz', '/content/drive/MyDrive/Colab Notebooks/Analisi_Cardiac_MRI/primo_blocco_analisi/database/training/patient002/patient002_frame01_preprocessed.nii.gz', '/content/drive/MyDrive/Colab Notebooks/Analisi_Cardiac_MRI/primo_blocco_analisi/database/training/patient002/patient002_frame12_preprocessed.nii.gz', '/content/drive/MyDrive/Colab Notebooks/Analisi_Cardiac_MRI/primo_blocco_analisi/database/training/patient003/patient003_frame01_preprocessed.nii.gz', '/content/drive/MyDrive/Colab Notebooks/Analisi_Cardiac_MRI/primo_blocco_analisi/database/training/patient003/patient003_frame15_preprocessed.nii.gz', '/content/drive/MyDrive/Colab Notebooks/Analisi_Cardiac_MRI/primo_blocco_analisi/database/training/patient004/patient004_frame01_preprocessed.nii.gz', '/content/drive/MyDrive/Colab Notebooks/Analisi_Cardiac_MRI/primo_blocco_analisi/database/training/patient004/patient004_frame15_preprocessed.nii.gz', '/content/drive/MyDrive/Colab Notebooks/Analisi_Cardiac_MRI/primo_blocco_analisi/database/training/patient005/patient005_frame01_preprocessed.nii.gz', '/content/drive/MyDrive/Colab Notebooks/Analisi_Cardiac_MRI/primo_blocco_analisi/database/training/patient005/patient005_frame13_preprocessed.nii.gz', '/content/drive/MyDrive/Colab Notebooks/Analisi_Cardiac_MRI/primo_blocco_analisi/database/training/patient006/patient006_frame01_preprocessed.nii.gz', '/content/drive/MyDrive/Colab Notebooks/Analisi_Cardiac_MRI/primo_blocco_analisi/database/training/patient006/patient006_frame16_preprocessed.nii.gz', '/content/drive/MyDrive/Colab Notebooks/Analisi_Cardiac_MRI/primo_blocco_analisi/database/training/patient007/patient007_frame01_preprocessed.nii.gz', '/content/drive/MyDrive/Colab Notebooks/Analisi_Cardiac_MRI/primo_blocco_analisi/database/training/patient007/patient007_frame07_preprocessed.nii.gz', '/content/drive/MyDrive/Colab Notebooks/Analisi_Cardiac_MRI/primo_blocco_analisi/database/training/patient008/patient008_frame01_preprocessed.nii.gz', '/content/drive/MyDrive/Colab Notebooks/Analisi_Cardiac_MRI/primo_blocco_analisi/database/training/patient008/patient008_frame13_preprocessed.nii.gz', '/content/drive/MyDrive/Colab Notebooks/Analisi_Cardiac_MRI/primo_blocco_analisi/database/training/patient009/patient009_frame01_preprocessed.nii.gz', '/content/drive/MyDrive/Colab Notebooks/Analisi_Cardiac_MRI/primo_blocco_analisi/database/training/patient009/patient009_frame13_preprocessed.nii.gz', '/content/drive/MyDrive/Colab Notebooks/Analisi_Cardiac_MRI/primo_blocco_analisi/database/training/patient010/patient010_frame01_preprocessed.nii.gz', '/content/drive/MyDrive/Colab Notebooks/Analisi_Cardiac_MRI/primo_blocco_analisi/database/training/patient010/patient010_frame13_preprocessed.nii.gz', '/content/drive/MyDrive/Colab Notebooks/Analisi_Cardiac_MRI/primo_blocco_analisi/database/training/patient011/patient011_frame01_preprocessed.nii.gz', '/content/drive/MyDrive/Colab Notebooks/Analisi_Cardiac_MRI/primo_blocco_analisi/database/training/patient011/patient011_frame08_preprocessed.nii.gz', '/content/drive/MyDrive/Colab Notebooks/Analisi_Cardiac_MRI/primo_blocco_analisi/database/training/patient012/patient012_frame01_preprocessed.nii.gz', '/content/drive/MyDrive/Colab Notebooks/Analisi_Cardiac_MRI/primo_blocco_analisi/database/training/patient012/patient012_frame13_preprocessed.nii.gz', '/content/drive/MyDrive/Colab Notebooks/Analisi_Cardiac_MRI/primo_blocco_analisi/database/training/patient013/patient013_frame01_preprocessed.nii.gz', '/content/drive/MyDrive/Colab Notebooks/Analisi_Cardiac_MRI/primo_blocco_analisi/database/training/patient013/patient013_frame14_preprocessed.nii.gz', '/content/drive/MyDrive/Colab Notebooks/Analisi_Cardiac_MRI/primo_blocco_analisi/database/training/patient014/patient014_frame01_preprocessed.nii.gz', '/content/drive/MyDrive/Colab Notebooks/Analisi_Cardiac_MRI/primo_blocco_analisi/database/training/patient014/patient014_frame13_preprocessed.nii.gz', '/content/drive/MyDrive/Colab Notebooks/Analisi_Cardiac_MRI/primo_blocco_analisi/database/training/patient015/patient015_frame01_preprocessed.nii.gz', '/content/drive/MyDrive/Colab Notebooks/Analisi_Cardiac_MRI/primo_blocco_analisi/database/training/patient015/patient015_frame10_preprocessed.nii.gz', '/content/drive/MyDrive/Colab Notebooks/Analisi_Cardiac_MRI/primo_blocco_analisi/database/training/patient016/patient016_frame01_preprocessed.nii.gz', '/content/drive/MyDrive/Colab Notebooks/Analisi_Cardiac_MRI/primo_blocco_analisi/database/training/patient016/patient016_frame12_preprocessed.nii.gz', '/content/drive/MyDrive/Colab Notebooks/Analisi_Cardiac_MRI/primo_blocco_analisi/database/training/patient017/patient017_frame01_preprocessed.nii.gz', '/content/drive/MyDrive/Colab Notebooks/Analisi_Cardiac_MRI/primo_blocco_analisi/database/training/patient017/patient017_frame09_preprocessed.nii.gz', '/content/drive/MyDrive/Colab Notebooks/Analisi_Cardiac_MRI/primo_blocco_analisi/database/training/patient018/patient018_frame01_preprocessed.nii.gz', '/content/drive/MyDrive/Colab Notebooks/Analisi_Cardiac_MRI/primo_blocco_analisi/database/training/patient018/patient018_frame10_preprocessed.nii.gz', '/content/drive/MyDrive/Colab Notebooks/Analisi_Cardiac_MRI/primo_blocco_analisi/database/training/patient019/patient019_frame01_preprocessed.nii.gz', '/content/drive/MyDrive/Colab Notebooks/Analisi_Cardiac_MRI/primo_blocco_analisi/database/training/patient019/patient019_frame11_preprocessed.nii.gz', '/content/drive/MyDrive/Colab Notebooks/Analisi_Cardiac_MRI/primo_blocco_analisi/database/training/patient020/patient020_frame01_preprocessed.nii.gz', '/content/drive/MyDrive/Colab Notebooks/Analisi_Cardiac_MRI/primo_blocco_analisi/database/training/patient020/patient020_frame11_preprocessed.nii.gz', '/content/drive/MyDrive/Colab Notebooks/Analisi_Cardiac_MRI/primo_blocco_analisi/database/training/patient021/patient021_frame01_preprocessed.nii.gz', '/content/drive/MyDrive/Colab Notebooks/Analisi_Cardiac_MRI/primo_blocco_analisi/database/training/patient021/patient021_frame13_preprocessed.nii.gz', '/content/drive/MyDrive/Colab Notebooks/Analisi_Cardiac_MRI/primo_blocco_analisi/database/training/patient022/patient022_frame01_preprocessed.nii.gz', '/content/drive/MyDrive/Colab Notebooks/Analisi_Cardiac_MRI/primo_blocco_analisi/database/training/patient022/patient022_frame11_preprocessed.nii.gz', '/content/drive/MyDrive/Colab Notebooks/Analisi_Cardiac_MRI/primo_blocco_analisi/database/training/patient023/patient023_frame01_preprocessed.nii.gz', '/content/drive/MyDrive/Colab Notebooks/Analisi_Cardiac_MRI/primo_blocco_analisi/database/training/patient023/patient023_frame09_preprocessed.nii.gz', '/content/drive/MyDrive/Colab Notebooks/Analisi_Cardiac_MRI/primo_blocco_analisi/database/training/patient024/patient024_frame01_preprocessed.nii.gz', '/content/drive/MyDrive/Colab Notebooks/Analisi_Cardiac_MRI/primo_blocco_analisi/database/training/patient024/patient024_frame09_preprocessed.nii.gz', '/content/drive/MyDrive/Colab Notebooks/Analisi_Cardiac_MRI/primo_blocco_analisi/database/training/patient025/patient025_frame01_preprocessed.nii.gz', '/content/drive/MyDrive/Colab Notebooks/Analisi_Cardiac_MRI/primo_blocco_analisi/database/training/patient025/patient025_frame09_preprocessed.nii.gz', '/content/drive/MyDrive/Colab Notebooks/Analisi_Cardiac_MRI/primo_blocco_analisi/database/training/patient026/patient026_frame01_preprocessed.nii.gz', '/content/drive/MyDrive/Colab Notebooks/Analisi_Cardiac_MRI/primo_blocco_analisi/database/training/patient026/patient026_frame12_preprocessed.nii.gz', '/content/drive/MyDrive/Colab Notebooks/Analisi_Cardiac_MRI/primo_blocco_analisi/database/training/patient027/patient027_frame01_preprocessed.nii.gz', '/content/drive/MyDrive/Colab Notebooks/Analisi_Cardiac_MRI/primo_blocco_analisi/database/training/patient027/patient027_frame11_preprocessed.nii.gz', '/content/drive/MyDrive/Colab Notebooks/Analisi_Cardiac_MRI/primo_blocco_analisi/database/training/patient028/patient028_frame01_preprocessed.nii.gz', '/content/drive/MyDrive/Colab Notebooks/Analisi_Cardiac_MRI/primo_blocco_analisi/database/training/patient028/patient028_frame09_preprocessed.nii.gz', '/content/drive/MyDrive/Colab Notebooks/Analisi_Cardiac_MRI/primo_blocco_analisi/database/training/patient029/patient029_frame01_preprocessed.nii.gz', '/content/drive/MyDrive/Colab Notebooks/Analisi_Cardiac_MRI/primo_blocco_analisi/database/training/patient029/patient029_frame12_preprocessed.nii.gz', '/content/drive/MyDrive/Colab Notebooks/Analisi_Cardiac_MRI/primo_blocco_analisi/database/training/patient030/patient030_frame01_preprocessed.nii.gz', '/content/drive/MyDrive/Colab Notebooks/Analisi_Cardiac_MRI/primo_blocco_analisi/database/training/patient030/patient030_frame12_preprocessed.nii.gz', '/content/drive/MyDrive/Colab Notebooks/Analisi_Cardiac_MRI/primo_blocco_analisi/database/training/patient031/patient031_frame01_preprocessed.nii.gz', '/content/drive/MyDrive/Colab Notebooks/Analisi_Cardiac_MRI/primo_blocco_analisi/database/training/patient031/patient031_frame10_preprocessed.nii.gz', '/content/drive/MyDrive/Colab Notebooks/Analisi_Cardiac_MRI/primo_blocco_analisi/database/training/patient032/patient032_frame01_preprocessed.nii.gz', '/content/drive/MyDrive/Colab Notebooks/Analisi_Cardiac_MRI/primo_blocco_analisi/database/training/patient032/patient032_frame12_preprocessed.nii.gz', '/content/drive/MyDrive/Colab Notebooks/Analisi_Cardiac_MRI/primo_blocco_analisi/database/training/patient033/patient033_frame01_preprocessed.nii.gz', '/content/drive/MyDrive/Colab Notebooks/Analisi_Cardiac_MRI/primo_blocco_analisi/database/training/patient033/patient033_frame14_preprocessed.nii.gz', '/content/drive/MyDrive/Colab Notebooks/Analisi_Cardiac_MRI/primo_blocco_analisi/database/training/patient034/patient034_frame01_preprocessed.nii.gz', '/content/drive/MyDrive/Colab Notebooks/Analisi_Cardiac_MRI/primo_blocco_analisi/database/training/patient034/patient034_frame16_preprocessed.nii.gz', '/content/drive/MyDrive/Colab Notebooks/Analisi_Cardiac_MRI/primo_blocco_analisi/database/training/patient035/patient035_frame01_preprocessed.nii.gz', '/content/drive/MyDrive/Colab Notebooks/Analisi_Cardiac_MRI/primo_blocco_analisi/database/training/patient035/patient035_frame11_preprocessed.nii.gz', '/content/drive/MyDrive/Colab Notebooks/Analisi_Cardiac_MRI/primo_blocco_analisi/database/training/patient036/patient036_frame01_preprocessed.nii.gz', '/content/drive/MyDrive/Colab Notebooks/Analisi_Cardiac_MRI/primo_blocco_analisi/database/training/patient036/patient036_frame12_preprocessed.nii.gz', '/content/drive/MyDrive/Colab Notebooks/Analisi_Cardiac_MRI/primo_blocco_analisi/database/training/patient037/patient037_frame01_preprocessed.nii.gz', '/content/drive/MyDrive/Colab Notebooks/Analisi_Cardiac_MRI/primo_blocco_analisi/database/training/patient037/patient037_frame12_preprocessed.nii.gz', '/content/drive/MyDrive/Colab Notebooks/Analisi_Cardiac_MRI/primo_blocco_analisi/database/training/patient038/patient038_frame01_preprocessed.nii.gz', '/content/drive/MyDrive/Colab Notebooks/Analisi_Cardiac_MRI/primo_blocco_analisi/database/training/patient038/patient038_frame11_preprocessed.nii.gz', '/content/drive/MyDrive/Colab Notebooks/Analisi_Cardiac_MRI/primo_blocco_analisi/database/training/patient039/patient039_frame01_preprocessed.nii.gz', '/content/drive/MyDrive/Colab Notebooks/Analisi_Cardiac_MRI/primo_blocco_analisi/database/training/patient039/patient039_frame10_preprocessed.nii.gz', '/content/drive/MyDrive/Colab Notebooks/Analisi_Cardiac_MRI/primo_blocco_analisi/database/training/patient040/patient040_frame01_preprocessed.nii.gz', '/content/drive/MyDrive/Colab Notebooks/Analisi_Cardiac_MRI/primo_blocco_analisi/database/training/patient040/patient040_frame13_preprocessed.nii.gz', '/content/drive/MyDrive/Colab Notebooks/Analisi_Cardiac_MRI/primo_blocco_analisi/database/training/patient041/patient041_frame01_preprocessed.nii.gz', '/content/drive/MyDrive/Colab Notebooks/Analisi_Cardiac_MRI/primo_blocco_analisi/database/training/patient041/patient041_frame11_preprocessed.nii.gz', '/content/drive/MyDrive/Colab Notebooks/Analisi_Cardiac_MRI/primo_blocco_analisi/database/training/patient042/patient042_frame01_preprocessed.nii.gz', '/content/drive/MyDrive/Colab Notebooks/Analisi_Cardiac_MRI/primo_blocco_analisi/database/training/patient042/patient042_frame16_preprocessed.nii.gz', '/content/drive/MyDrive/Colab Notebooks/Analisi_Cardiac_MRI/primo_blocco_analisi/database/training/patient043/patient043_frame01_preprocessed.nii.gz', '/content/drive/MyDrive/Colab Notebooks/Analisi_Cardiac_MRI/primo_blocco_analisi/database/training/patient043/patient043_frame07_preprocessed.nii.gz', '/content/drive/MyDrive/Colab Notebooks/Analisi_Cardiac_MRI/primo_blocco_analisi/database/training/patient044/patient044_frame01_preprocessed.nii.gz', '/content/drive/MyDrive/Colab Notebooks/Analisi_Cardiac_MRI/primo_blocco_analisi/database/training/patient044/patient044_frame11_preprocessed.nii.gz', '/content/drive/MyDrive/Colab Notebooks/Analisi_Cardiac_MRI/primo_blocco_analisi/database/training/patient045/patient045_frame01_preprocessed.nii.gz', '/content/drive/MyDrive/Colab Notebooks/Analisi_Cardiac_MRI/primo_blocco_analisi/database/training/patient045/patient045_frame13_preprocessed.nii.gz', '/content/drive/MyDrive/Colab Notebooks/Analisi_Cardiac_MRI/primo_blocco_analisi/database/training/patient046/patient046_frame01_preprocessed.nii.gz', '/content/drive/MyDrive/Colab Notebooks/Analisi_Cardiac_MRI/primo_blocco_analisi/database/training/patient046/patient046_frame10_preprocessed.nii.gz', '/content/drive/MyDrive/Colab Notebooks/Analisi_Cardiac_MRI/primo_blocco_analisi/database/training/patient047/patient047_frame01_preprocessed.nii.gz', '/content/drive/MyDrive/Colab Notebooks/Analisi_Cardiac_MRI/primo_blocco_analisi/database/training/patient047/patient047_frame09_preprocessed.nii.gz', '/content/drive/MyDrive/Colab Notebooks/Analisi_Cardiac_MRI/primo_blocco_analisi/database/training/patient048/patient048_frame01_preprocessed.nii.gz', '/content/drive/MyDrive/Colab Notebooks/Analisi_Cardiac_MRI/primo_blocco_analisi/database/training/patient048/patient048_frame08_preprocessed.nii.gz', '/content/drive/MyDrive/Colab Notebooks/Analisi_Cardiac_MRI/primo_blocco_analisi/database/training/patient049/patient049_frame01_preprocessed.nii.gz', '/content/drive/MyDrive/Colab Notebooks/Analisi_Cardiac_MRI/primo_blocco_analisi/database/training/patient049/patient049_frame11_preprocessed.nii.gz', '/content/drive/MyDrive/Colab Notebooks/Analisi_Cardiac_MRI/primo_blocco_analisi/database/training/patient050/patient050_frame01_preprocessed.nii.gz', '/content/drive/MyDrive/Colab Notebooks/Analisi_Cardiac_MRI/primo_blocco_analisi/database/training/patient050/patient050_frame12_preprocessed.nii.gz', '/content/drive/MyDrive/Colab Notebooks/Analisi_Cardiac_MRI/primo_blocco_analisi/database/training/patient051/patient051_frame01_preprocessed.nii.gz', '/content/drive/MyDrive/Colab Notebooks/Analisi_Cardiac_MRI/primo_blocco_analisi/database/training/patient051/patient051_frame11_preprocessed.nii.gz', '/content/drive/MyDrive/Colab Notebooks/Analisi_Cardiac_MRI/primo_blocco_analisi/database/training/patient052/patient052_frame01_preprocessed.nii.gz', '/content/drive/MyDrive/Colab Notebooks/Analisi_Cardiac_MRI/primo_blocco_analisi/database/training/patient052/patient052_frame09_preprocessed.nii.gz', '/content/drive/MyDrive/Colab Notebooks/Analisi_Cardiac_MRI/primo_blocco_analisi/database/training/patient053/patient053_frame01_preprocessed.nii.gz', '/content/drive/MyDrive/Colab Notebooks/Analisi_Cardiac_MRI/primo_blocco_analisi/database/training/patient053/patient053_frame12_preprocessed.nii.gz', '/content/drive/MyDrive/Colab Notebooks/Analisi_Cardiac_MRI/primo_blocco_analisi/database/training/patient054/patient054_frame01_preprocessed.nii.gz', '/content/drive/MyDrive/Colab Notebooks/Analisi_Cardiac_MRI/primo_blocco_analisi/database/training/patient054/patient054_frame12_preprocessed.nii.gz', '/content/drive/MyDrive/Colab Notebooks/Analisi_Cardiac_MRI/primo_blocco_analisi/database/training/patient055/patient055_frame01_preprocessed.nii.gz', '/content/drive/MyDrive/Colab Notebooks/Analisi_Cardiac_MRI/primo_blocco_analisi/database/training/patient055/patient055_frame10_preprocessed.nii.gz', '/content/drive/MyDrive/Colab Notebooks/Analisi_Cardiac_MRI/primo_blocco_analisi/database/training/patient056/patient056_frame01_preprocessed.nii.gz', '/content/drive/MyDrive/Colab Notebooks/Analisi_Cardiac_MRI/primo_blocco_analisi/database/training/patient056/patient056_frame12_preprocessed.nii.gz', '/content/drive/MyDrive/Colab Notebooks/Analisi_Cardiac_MRI/primo_blocco_analisi/database/training/patient057/patient057_frame01_preprocessed.nii.gz', '/content/drive/MyDrive/Colab Notebooks/Analisi_Cardiac_MRI/primo_blocco_analisi/database/training/patient057/patient057_frame09_preprocessed.nii.gz', '/content/drive/MyDrive/Colab Notebooks/Analisi_Cardiac_MRI/primo_blocco_analisi/database/training/patient058/patient058_frame01_preprocessed.nii.gz', '/content/drive/MyDrive/Colab Notebooks/Analisi_Cardiac_MRI/primo_blocco_analisi/database/training/patient058/patient058_frame14_preprocessed.nii.gz', '/content/drive/MyDrive/Colab Notebooks/Analisi_Cardiac_MRI/primo_blocco_analisi/database/training/patient059/patient059_frame01_preprocessed.nii.gz', '/content/drive/MyDrive/Colab Notebooks/Analisi_Cardiac_MRI/primo_blocco_analisi/database/training/patient059/patient059_frame09_preprocessed.nii.gz', '/content/drive/MyDrive/Colab Notebooks/Analisi_Cardiac_MRI/primo_blocco_analisi/database/training/patient060/patient060_frame01_preprocessed.nii.gz', '/content/drive/MyDrive/Colab Notebooks/Analisi_Cardiac_MRI/primo_blocco_analisi/database/training/patient060/patient060_frame14_preprocessed.nii.gz', '/content/drive/MyDrive/Colab Notebooks/Analisi_Cardiac_MRI/primo_blocco_analisi/database/training/patient061/patient061_frame01_preprocessed.nii.gz', '/content/drive/MyDrive/Colab Notebooks/Analisi_Cardiac_MRI/primo_blocco_analisi/database/training/patient061/patient061_frame10_preprocessed.nii.gz', '/content/drive/MyDrive/Colab Notebooks/Analisi_Cardiac_MRI/primo_blocco_analisi/database/training/patient062/patient062_frame01_preprocessed.nii.gz', '/content/drive/MyDrive/Colab Notebooks/Analisi_Cardiac_MRI/primo_blocco_analisi/database/training/patient062/patient062_frame09_preprocessed.nii.gz', '/content/drive/MyDrive/Colab Notebooks/Analisi_Cardiac_MRI/primo_blocco_analisi/database/training/patient063/patient063_frame01_preprocessed.nii.gz', '/content/drive/MyDrive/Colab Notebooks/Analisi_Cardiac_MRI/primo_blocco_analisi/database/training/patient063/patient063_frame16_preprocessed.nii.gz', '/content/drive/MyDrive/Colab Notebooks/Analisi_Cardiac_MRI/primo_blocco_analisi/database/training/patient064/patient064_frame01_preprocessed.nii.gz', '/content/drive/MyDrive/Colab Notebooks/Analisi_Cardiac_MRI/primo_blocco_analisi/database/training/patient064/patient064_frame12_preprocessed.nii.gz', '/content/drive/MyDrive/Colab Notebooks/Analisi_Cardiac_MRI/primo_blocco_analisi/database/training/patient065/patient065_frame01_preprocessed.nii.gz', '/content/drive/MyDrive/Colab Notebooks/Analisi_Cardiac_MRI/primo_blocco_analisi/database/training/patient065/patient065_frame14_preprocessed.nii.gz', '/content/drive/MyDrive/Colab Notebooks/Analisi_Cardiac_MRI/primo_blocco_analisi/database/training/patient066/patient066_frame01_preprocessed.nii.gz', '/content/drive/MyDrive/Colab Notebooks/Analisi_Cardiac_MRI/primo_blocco_analisi/database/training/patient066/patient066_frame11_preprocessed.nii.gz', '/content/drive/MyDrive/Colab Notebooks/Analisi_Cardiac_MRI/primo_blocco_analisi/database/training/patient067/patient067_frame01_preprocessed.nii.gz', '/content/drive/MyDrive/Colab Notebooks/Analisi_Cardiac_MRI/primo_blocco_analisi/database/training/patient067/patient067_frame10_preprocessed.nii.gz', '/content/drive/MyDrive/Colab Notebooks/Analisi_Cardiac_MRI/primo_blocco_analisi/database/training/patient068/patient068_frame01_preprocessed.nii.gz', '/content/drive/MyDrive/Colab Notebooks/Analisi_Cardiac_MRI/primo_blocco_analisi/database/training/patient068/patient068_frame12_preprocessed.nii.gz', '/content/drive/MyDrive/Colab Notebooks/Analisi_Cardiac_MRI/primo_blocco_analisi/database/training/patient069/patient069_frame01_preprocessed.nii.gz', '/content/drive/MyDrive/Colab Notebooks/Analisi_Cardiac_MRI/primo_blocco_analisi/database/training/patient069/patient069_frame12_preprocessed.nii.gz', '/content/drive/MyDrive/Colab Notebooks/Analisi_Cardiac_MRI/primo_blocco_analisi/database/training/patient070/patient070_frame01_preprocessed.nii.gz', '/content/drive/MyDrive/Colab Notebooks/Analisi_Cardiac_MRI/primo_blocco_analisi/database/training/patient070/patient070_frame10_preprocessed.nii.gz', '/content/drive/MyDrive/Colab Notebooks/Analisi_Cardiac_MRI/primo_blocco_analisi/database/training/patient071/patient071_frame01_preprocessed.nii.gz', '/content/drive/MyDrive/Colab Notebooks/Analisi_Cardiac_MRI/primo_blocco_analisi/database/training/patient071/patient071_frame09_preprocessed.nii.gz', '/content/drive/MyDrive/Colab Notebooks/Analisi_Cardiac_MRI/primo_blocco_analisi/database/training/patient072/patient072_frame01_preprocessed.nii.gz', '/content/drive/MyDrive/Colab Notebooks/Analisi_Cardiac_MRI/primo_blocco_analisi/database/training/patient072/patient072_frame11_preprocessed.nii.gz', '/content/drive/MyDrive/Colab Notebooks/Analisi_Cardiac_MRI/primo_blocco_analisi/database/training/patient073/patient073_frame01_preprocessed.nii.gz', '/content/drive/MyDrive/Colab Notebooks/Analisi_Cardiac_MRI/primo_blocco_analisi/database/training/patient073/patient073_frame10_preprocessed.nii.gz', '/content/drive/MyDrive/Colab Notebooks/Analisi_Cardiac_MRI/primo_blocco_analisi/database/training/patient074/patient074_frame01_preprocessed.nii.gz', '/content/drive/MyDrive/Colab Notebooks/Analisi_Cardiac_MRI/primo_blocco_analisi/database/training/patient074/patient074_frame12_preprocessed.nii.gz', '/content/drive/MyDrive/Colab Notebooks/Analisi_Cardiac_MRI/primo_blocco_analisi/database/training/patient075/patient075_frame01_preprocessed.nii.gz', '/content/drive/MyDrive/Colab Notebooks/Analisi_Cardiac_MRI/primo_blocco_analisi/database/training/patient075/patient075_frame06_preprocessed.nii.gz', '/content/drive/MyDrive/Colab Notebooks/Analisi_Cardiac_MRI/primo_blocco_analisi/database/training/patient076/patient076_frame01_preprocessed.nii.gz', '/content/drive/MyDrive/Colab Notebooks/Analisi_Cardiac_MRI/primo_blocco_analisi/database/training/patient076/patient076_frame12_preprocessed.nii.gz', '/content/drive/MyDrive/Colab Notebooks/Analisi_Cardiac_MRI/primo_blocco_analisi/database/training/patient077/patient077_frame01_preprocessed.nii.gz', '/content/drive/MyDrive/Colab Notebooks/Analisi_Cardiac_MRI/primo_blocco_analisi/database/training/patient077/patient077_frame09_preprocessed.nii.gz', '/content/drive/MyDrive/Colab Notebooks/Analisi_Cardiac_MRI/primo_blocco_analisi/database/training/patient078/patient078_frame01_preprocessed.nii.gz', '/content/drive/MyDrive/Colab Notebooks/Analisi_Cardiac_MRI/primo_blocco_analisi/database/training/patient078/patient078_frame09_preprocessed.nii.gz', '/content/drive/MyDrive/Colab Notebooks/Analisi_Cardiac_MRI/primo_blocco_analisi/database/training/patient079/patient079_frame01_preprocessed.nii.gz', '/content/drive/MyDrive/Colab Notebooks/Analisi_Cardiac_MRI/primo_blocco_analisi/database/training/patient079/patient079_frame11_preprocessed.nii.gz', '/content/drive/MyDrive/Colab Notebooks/Analisi_Cardiac_MRI/primo_blocco_analisi/database/training/patient080/patient080_frame01_preprocessed.nii.gz', '/content/drive/MyDrive/Colab Notebooks/Analisi_Cardiac_MRI/primo_blocco_analisi/database/training/patient080/patient080_frame10_preprocessed.nii.gz', '/content/drive/MyDrive/Colab Notebooks/Analisi_Cardiac_MRI/primo_blocco_analisi/database/training/patient081/patient081_frame01_preprocessed.nii.gz', '/content/drive/MyDrive/Colab Notebooks/Analisi_Cardiac_MRI/primo_blocco_analisi/database/training/patient081/patient081_frame07_preprocessed.nii.gz', '/content/drive/MyDrive/Colab Notebooks/Analisi_Cardiac_MRI/primo_blocco_analisi/database/training/patient082/patient082_frame01_preprocessed.nii.gz', '/content/drive/MyDrive/Colab Notebooks/Analisi_Cardiac_MRI/primo_blocco_analisi/database/training/patient082/patient082_frame07_preprocessed.nii.gz', '/content/drive/MyDrive/Colab Notebooks/Analisi_Cardiac_MRI/primo_blocco_analisi/database/training/patient083/patient083_frame01_preprocessed.nii.gz', '/content/drive/MyDrive/Colab Notebooks/Analisi_Cardiac_MRI/primo_blocco_analisi/database/training/patient083/patient083_frame08_preprocessed.nii.gz', '/content/drive/MyDrive/Colab Notebooks/Analisi_Cardiac_MRI/primo_blocco_analisi/database/training/patient084/patient084_frame01_preprocessed.nii.gz', '/content/drive/MyDrive/Colab Notebooks/Analisi_Cardiac_MRI/primo_blocco_analisi/database/training/patient084/patient084_frame10_preprocessed.nii.gz', '/content/drive/MyDrive/Colab Notebooks/Analisi_Cardiac_MRI/primo_blocco_analisi/database/training/patient085/patient085_frame01_preprocessed.nii.gz', '/content/drive/MyDrive/Colab Notebooks/Analisi_Cardiac_MRI/primo_blocco_analisi/database/training/patient085/patient085_frame09_preprocessed.nii.gz', '/content/drive/MyDrive/Colab Notebooks/Analisi_Cardiac_MRI/primo_blocco_analisi/database/training/patient086/patient086_frame01_preprocessed.nii.gz', '/content/drive/MyDrive/Colab Notebooks/Analisi_Cardiac_MRI/primo_blocco_analisi/database/training/patient086/patient086_frame08_preprocessed.nii.gz', '/content/drive/MyDrive/Colab Notebooks/Analisi_Cardiac_MRI/primo_blocco_analisi/database/training/patient087/patient087_frame01_preprocessed.nii.gz', '/content/drive/MyDrive/Colab Notebooks/Analisi_Cardiac_MRI/primo_blocco_analisi/database/training/patient087/patient087_frame10_preprocessed.nii.gz', '/content/drive/MyDrive/Colab Notebooks/Analisi_Cardiac_MRI/primo_blocco_analisi/database/training/patient088/patient088_frame01_preprocessed.nii.gz', '/content/drive/MyDrive/Colab Notebooks/Analisi_Cardiac_MRI/primo_blocco_analisi/database/training/patient088/patient088_frame12_preprocessed.nii.gz', '/content/drive/MyDrive/Colab Notebooks/Analisi_Cardiac_MRI/primo_blocco_analisi/database/training/patient089/patient089_frame01_preprocessed.nii.gz', '/content/drive/MyDrive/Colab Notebooks/Analisi_Cardiac_MRI/primo_blocco_analisi/database/training/patient089/patient089_frame10_preprocessed.nii.gz', '/content/drive/MyDrive/Colab Notebooks/Analisi_Cardiac_MRI/primo_blocco_analisi/database/training/patient090/patient090_frame04_preprocessed.nii.gz', '/content/drive/MyDrive/Colab Notebooks/Analisi_Cardiac_MRI/primo_blocco_analisi/database/training/patient090/patient090_frame11_preprocessed.nii.gz', '/content/drive/MyDrive/Colab Notebooks/Analisi_Cardiac_MRI/primo_blocco_analisi/database/training/patient091/patient091_frame01_preprocessed.nii.gz', '/content/drive/MyDrive/Colab Notebooks/Analisi_Cardiac_MRI/primo_blocco_analisi/database/training/patient091/patient091_frame09_preprocessed.nii.gz', '/content/drive/MyDrive/Colab Notebooks/Analisi_Cardiac_MRI/primo_blocco_analisi/database/training/patient092/patient092_frame01_preprocessed.nii.gz', '/content/drive/MyDrive/Colab Notebooks/Analisi_Cardiac_MRI/primo_blocco_analisi/database/training/patient092/patient092_frame06_preprocessed.nii.gz', '/content/drive/MyDrive/Colab Notebooks/Analisi_Cardiac_MRI/primo_blocco_analisi/database/training/patient093/patient093_frame01_preprocessed.nii.gz', '/content/drive/MyDrive/Colab Notebooks/Analisi_Cardiac_MRI/primo_blocco_analisi/database/training/patient093/patient093_frame14_preprocessed.nii.gz', '/content/drive/MyDrive/Colab Notebooks/Analisi_Cardiac_MRI/primo_blocco_analisi/database/training/patient094/patient094_frame01_preprocessed.nii.gz', '/content/drive/MyDrive/Colab Notebooks/Analisi_Cardiac_MRI/primo_blocco_analisi/database/training/patient094/patient094_frame07_preprocessed.nii.gz', '/content/drive/MyDrive/Colab Notebooks/Analisi_Cardiac_MRI/primo_blocco_analisi/database/training/patient095/patient095_frame01_preprocessed.nii.gz', '/content/drive/MyDrive/Colab Notebooks/Analisi_Cardiac_MRI/primo_blocco_analisi/database/training/patient095/patient095_frame12_preprocessed.nii.gz', '/content/drive/MyDrive/Colab Notebooks/Analisi_Cardiac_MRI/primo_blocco_analisi/database/training/patient096/patient096_frame01_preprocessed.nii.gz', '/content/drive/MyDrive/Colab Notebooks/Analisi_Cardiac_MRI/primo_blocco_analisi/database/training/patient096/patient096_frame08_preprocessed.nii.gz', '/content/drive/MyDrive/Colab Notebooks/Analisi_Cardiac_MRI/primo_blocco_analisi/database/training/patient097/patient097_frame01_preprocessed.nii.gz', '/content/drive/MyDrive/Colab Notebooks/Analisi_Cardiac_MRI/primo_blocco_analisi/database/training/patient097/patient097_frame11_preprocessed.nii.gz', '/content/drive/MyDrive/Colab Notebooks/Analisi_Cardiac_MRI/primo_blocco_analisi/database/training/patient098/patient098_frame01_preprocessed.nii.gz', '/content/drive/MyDrive/Colab Notebooks/Analisi_Cardiac_MRI/primo_blocco_analisi/database/training/patient098/patient098_frame09_preprocessed.nii.gz', '/content/drive/MyDrive/Colab Notebooks/Analisi_Cardiac_MRI/primo_blocco_analisi/database/training/patient099/patient099_frame01_preprocessed.nii.gz', '/content/drive/MyDrive/Colab Notebooks/Analisi_Cardiac_MRI/primo_blocco_analisi/database/training/patient099/patient099_frame09_preprocessed.nii.gz', '/content/drive/MyDrive/Colab Notebooks/Analisi_Cardiac_MRI/primo_blocco_analisi/database/training/patient100/patient100_frame01_preprocessed.nii.gz', '/content/drive/MyDrive/Colab Notebooks/Analisi_Cardiac_MRI/primo_blocco_analisi/database/training/patient100/patient100_frame13_preprocessed.nii.gz']\n",
            "['/content/drive/MyDrive/Colab Notebooks/Analisi_Cardiac_MRI/primo_blocco_analisi/database/training/patient001/patient001_frame01_gt_preprocessed.nii.gz', '/content/drive/MyDrive/Colab Notebooks/Analisi_Cardiac_MRI/primo_blocco_analisi/database/training/patient001/patient001_frame12_gt_preprocessed.nii.gz', '/content/drive/MyDrive/Colab Notebooks/Analisi_Cardiac_MRI/primo_blocco_analisi/database/training/patient002/patient002_frame01_gt_preprocessed.nii.gz', '/content/drive/MyDrive/Colab Notebooks/Analisi_Cardiac_MRI/primo_blocco_analisi/database/training/patient002/patient002_frame12_gt_preprocessed.nii.gz', '/content/drive/MyDrive/Colab Notebooks/Analisi_Cardiac_MRI/primo_blocco_analisi/database/training/patient003/patient003_frame01_gt_preprocessed.nii.gz', '/content/drive/MyDrive/Colab Notebooks/Analisi_Cardiac_MRI/primo_blocco_analisi/database/training/patient003/patient003_frame15_gt_preprocessed.nii.gz', '/content/drive/MyDrive/Colab Notebooks/Analisi_Cardiac_MRI/primo_blocco_analisi/database/training/patient004/patient004_frame01_gt_preprocessed.nii.gz', '/content/drive/MyDrive/Colab Notebooks/Analisi_Cardiac_MRI/primo_blocco_analisi/database/training/patient004/patient004_frame15_gt_preprocessed.nii.gz', '/content/drive/MyDrive/Colab Notebooks/Analisi_Cardiac_MRI/primo_blocco_analisi/database/training/patient005/patient005_frame01_gt_preprocessed.nii.gz', '/content/drive/MyDrive/Colab Notebooks/Analisi_Cardiac_MRI/primo_blocco_analisi/database/training/patient005/patient005_frame13_gt_preprocessed.nii.gz', '/content/drive/MyDrive/Colab Notebooks/Analisi_Cardiac_MRI/primo_blocco_analisi/database/training/patient006/patient006_frame01_gt_preprocessed.nii.gz', '/content/drive/MyDrive/Colab Notebooks/Analisi_Cardiac_MRI/primo_blocco_analisi/database/training/patient006/patient006_frame16_gt_preprocessed.nii.gz', '/content/drive/MyDrive/Colab Notebooks/Analisi_Cardiac_MRI/primo_blocco_analisi/database/training/patient007/patient007_frame01_gt_preprocessed.nii.gz', '/content/drive/MyDrive/Colab Notebooks/Analisi_Cardiac_MRI/primo_blocco_analisi/database/training/patient007/patient007_frame07_gt_preprocessed.nii.gz', '/content/drive/MyDrive/Colab Notebooks/Analisi_Cardiac_MRI/primo_blocco_analisi/database/training/patient008/patient008_frame01_gt_preprocessed.nii.gz', '/content/drive/MyDrive/Colab Notebooks/Analisi_Cardiac_MRI/primo_blocco_analisi/database/training/patient008/patient008_frame13_gt_preprocessed.nii.gz', '/content/drive/MyDrive/Colab Notebooks/Analisi_Cardiac_MRI/primo_blocco_analisi/database/training/patient009/patient009_frame01_gt_preprocessed.nii.gz', '/content/drive/MyDrive/Colab Notebooks/Analisi_Cardiac_MRI/primo_blocco_analisi/database/training/patient009/patient009_frame13_gt_preprocessed.nii.gz', '/content/drive/MyDrive/Colab Notebooks/Analisi_Cardiac_MRI/primo_blocco_analisi/database/training/patient010/patient010_frame01_gt_preprocessed.nii.gz', '/content/drive/MyDrive/Colab Notebooks/Analisi_Cardiac_MRI/primo_blocco_analisi/database/training/patient010/patient010_frame13_gt_preprocessed.nii.gz', '/content/drive/MyDrive/Colab Notebooks/Analisi_Cardiac_MRI/primo_blocco_analisi/database/training/patient011/patient011_frame01_gt_preprocessed.nii.gz', '/content/drive/MyDrive/Colab Notebooks/Analisi_Cardiac_MRI/primo_blocco_analisi/database/training/patient011/patient011_frame08_gt_preprocessed.nii.gz', '/content/drive/MyDrive/Colab Notebooks/Analisi_Cardiac_MRI/primo_blocco_analisi/database/training/patient012/patient012_frame01_gt_preprocessed.nii.gz', '/content/drive/MyDrive/Colab Notebooks/Analisi_Cardiac_MRI/primo_blocco_analisi/database/training/patient012/patient012_frame13_gt_preprocessed.nii.gz', '/content/drive/MyDrive/Colab Notebooks/Analisi_Cardiac_MRI/primo_blocco_analisi/database/training/patient013/patient013_frame01_gt_preprocessed.nii.gz', '/content/drive/MyDrive/Colab Notebooks/Analisi_Cardiac_MRI/primo_blocco_analisi/database/training/patient013/patient013_frame14_gt_preprocessed.nii.gz', '/content/drive/MyDrive/Colab Notebooks/Analisi_Cardiac_MRI/primo_blocco_analisi/database/training/patient014/patient014_frame01_gt_preprocessed.nii.gz', '/content/drive/MyDrive/Colab Notebooks/Analisi_Cardiac_MRI/primo_blocco_analisi/database/training/patient014/patient014_frame13_gt_preprocessed.nii.gz', '/content/drive/MyDrive/Colab Notebooks/Analisi_Cardiac_MRI/primo_blocco_analisi/database/training/patient015/patient015_frame01_gt_preprocessed.nii.gz', '/content/drive/MyDrive/Colab Notebooks/Analisi_Cardiac_MRI/primo_blocco_analisi/database/training/patient015/patient015_frame10_gt_preprocessed.nii.gz', '/content/drive/MyDrive/Colab Notebooks/Analisi_Cardiac_MRI/primo_blocco_analisi/database/training/patient016/patient016_frame01_gt_preprocessed.nii.gz', '/content/drive/MyDrive/Colab Notebooks/Analisi_Cardiac_MRI/primo_blocco_analisi/database/training/patient016/patient016_frame12_gt_preprocessed.nii.gz', '/content/drive/MyDrive/Colab Notebooks/Analisi_Cardiac_MRI/primo_blocco_analisi/database/training/patient017/patient017_frame01_gt_preprocessed.nii.gz', '/content/drive/MyDrive/Colab Notebooks/Analisi_Cardiac_MRI/primo_blocco_analisi/database/training/patient017/patient017_frame09_gt_preprocessed.nii.gz', '/content/drive/MyDrive/Colab Notebooks/Analisi_Cardiac_MRI/primo_blocco_analisi/database/training/patient018/patient018_frame01_gt_preprocessed.nii.gz', '/content/drive/MyDrive/Colab Notebooks/Analisi_Cardiac_MRI/primo_blocco_analisi/database/training/patient018/patient018_frame10_gt_preprocessed.nii.gz', '/content/drive/MyDrive/Colab Notebooks/Analisi_Cardiac_MRI/primo_blocco_analisi/database/training/patient019/patient019_frame01_gt_preprocessed.nii.gz', '/content/drive/MyDrive/Colab Notebooks/Analisi_Cardiac_MRI/primo_blocco_analisi/database/training/patient019/patient019_frame11_gt_preprocessed.nii.gz', '/content/drive/MyDrive/Colab Notebooks/Analisi_Cardiac_MRI/primo_blocco_analisi/database/training/patient020/patient020_frame01_gt_preprocessed.nii.gz', '/content/drive/MyDrive/Colab Notebooks/Analisi_Cardiac_MRI/primo_blocco_analisi/database/training/patient020/patient020_frame11_gt_preprocessed.nii.gz', '/content/drive/MyDrive/Colab Notebooks/Analisi_Cardiac_MRI/primo_blocco_analisi/database/training/patient021/patient021_frame01_gt_preprocessed.nii.gz', '/content/drive/MyDrive/Colab Notebooks/Analisi_Cardiac_MRI/primo_blocco_analisi/database/training/patient021/patient021_frame13_gt_preprocessed.nii.gz', '/content/drive/MyDrive/Colab Notebooks/Analisi_Cardiac_MRI/primo_blocco_analisi/database/training/patient022/patient022_frame01_gt_preprocessed.nii.gz', '/content/drive/MyDrive/Colab Notebooks/Analisi_Cardiac_MRI/primo_blocco_analisi/database/training/patient022/patient022_frame11_gt_preprocessed.nii.gz', '/content/drive/MyDrive/Colab Notebooks/Analisi_Cardiac_MRI/primo_blocco_analisi/database/training/patient023/patient023_frame01_gt_preprocessed.nii.gz', '/content/drive/MyDrive/Colab Notebooks/Analisi_Cardiac_MRI/primo_blocco_analisi/database/training/patient023/patient023_frame09_gt_preprocessed.nii.gz', '/content/drive/MyDrive/Colab Notebooks/Analisi_Cardiac_MRI/primo_blocco_analisi/database/training/patient024/patient024_frame01_gt_preprocessed.nii.gz', '/content/drive/MyDrive/Colab Notebooks/Analisi_Cardiac_MRI/primo_blocco_analisi/database/training/patient024/patient024_frame09_gt_preprocessed.nii.gz', '/content/drive/MyDrive/Colab Notebooks/Analisi_Cardiac_MRI/primo_blocco_analisi/database/training/patient025/patient025_frame01_gt_preprocessed.nii.gz', '/content/drive/MyDrive/Colab Notebooks/Analisi_Cardiac_MRI/primo_blocco_analisi/database/training/patient025/patient025_frame09_gt_preprocessed.nii.gz', '/content/drive/MyDrive/Colab Notebooks/Analisi_Cardiac_MRI/primo_blocco_analisi/database/training/patient026/patient026_frame01_gt_preprocessed.nii.gz', '/content/drive/MyDrive/Colab Notebooks/Analisi_Cardiac_MRI/primo_blocco_analisi/database/training/patient026/patient026_frame12_gt_preprocessed.nii.gz', '/content/drive/MyDrive/Colab Notebooks/Analisi_Cardiac_MRI/primo_blocco_analisi/database/training/patient027/patient027_frame01_gt_preprocessed.nii.gz', '/content/drive/MyDrive/Colab Notebooks/Analisi_Cardiac_MRI/primo_blocco_analisi/database/training/patient027/patient027_frame11_gt_preprocessed.nii.gz', '/content/drive/MyDrive/Colab Notebooks/Analisi_Cardiac_MRI/primo_blocco_analisi/database/training/patient028/patient028_frame01_gt_preprocessed.nii.gz', '/content/drive/MyDrive/Colab Notebooks/Analisi_Cardiac_MRI/primo_blocco_analisi/database/training/patient028/patient028_frame09_gt_preprocessed.nii.gz', '/content/drive/MyDrive/Colab Notebooks/Analisi_Cardiac_MRI/primo_blocco_analisi/database/training/patient029/patient029_frame01_gt_preprocessed.nii.gz', '/content/drive/MyDrive/Colab Notebooks/Analisi_Cardiac_MRI/primo_blocco_analisi/database/training/patient029/patient029_frame12_gt_preprocessed.nii.gz', '/content/drive/MyDrive/Colab Notebooks/Analisi_Cardiac_MRI/primo_blocco_analisi/database/training/patient030/patient030_frame01_gt_preprocessed.nii.gz', '/content/drive/MyDrive/Colab Notebooks/Analisi_Cardiac_MRI/primo_blocco_analisi/database/training/patient030/patient030_frame12_gt_preprocessed.nii.gz', '/content/drive/MyDrive/Colab Notebooks/Analisi_Cardiac_MRI/primo_blocco_analisi/database/training/patient031/patient031_frame01_gt_preprocessed.nii.gz', '/content/drive/MyDrive/Colab Notebooks/Analisi_Cardiac_MRI/primo_blocco_analisi/database/training/patient031/patient031_frame10_gt_preprocessed.nii.gz', '/content/drive/MyDrive/Colab Notebooks/Analisi_Cardiac_MRI/primo_blocco_analisi/database/training/patient032/patient032_frame01_gt_preprocessed.nii.gz', '/content/drive/MyDrive/Colab Notebooks/Analisi_Cardiac_MRI/primo_blocco_analisi/database/training/patient032/patient032_frame12_gt_preprocessed.nii.gz', '/content/drive/MyDrive/Colab Notebooks/Analisi_Cardiac_MRI/primo_blocco_analisi/database/training/patient033/patient033_frame01_gt_preprocessed.nii.gz', '/content/drive/MyDrive/Colab Notebooks/Analisi_Cardiac_MRI/primo_blocco_analisi/database/training/patient033/patient033_frame14_gt_preprocessed.nii.gz', '/content/drive/MyDrive/Colab Notebooks/Analisi_Cardiac_MRI/primo_blocco_analisi/database/training/patient034/patient034_frame01_gt_preprocessed.nii.gz', '/content/drive/MyDrive/Colab Notebooks/Analisi_Cardiac_MRI/primo_blocco_analisi/database/training/patient034/patient034_frame16_gt_preprocessed.nii.gz', '/content/drive/MyDrive/Colab Notebooks/Analisi_Cardiac_MRI/primo_blocco_analisi/database/training/patient035/patient035_frame01_gt_preprocessed.nii.gz', '/content/drive/MyDrive/Colab Notebooks/Analisi_Cardiac_MRI/primo_blocco_analisi/database/training/patient035/patient035_frame11_gt_preprocessed.nii.gz', '/content/drive/MyDrive/Colab Notebooks/Analisi_Cardiac_MRI/primo_blocco_analisi/database/training/patient036/patient036_frame01_gt_preprocessed.nii.gz', '/content/drive/MyDrive/Colab Notebooks/Analisi_Cardiac_MRI/primo_blocco_analisi/database/training/patient036/patient036_frame12_gt_preprocessed.nii.gz', '/content/drive/MyDrive/Colab Notebooks/Analisi_Cardiac_MRI/primo_blocco_analisi/database/training/patient037/patient037_frame01_gt_preprocessed.nii.gz', '/content/drive/MyDrive/Colab Notebooks/Analisi_Cardiac_MRI/primo_blocco_analisi/database/training/patient037/patient037_frame12_gt_preprocessed.nii.gz', '/content/drive/MyDrive/Colab Notebooks/Analisi_Cardiac_MRI/primo_blocco_analisi/database/training/patient038/patient038_frame01_gt_preprocessed.nii.gz', '/content/drive/MyDrive/Colab Notebooks/Analisi_Cardiac_MRI/primo_blocco_analisi/database/training/patient038/patient038_frame11_gt_preprocessed.nii.gz', '/content/drive/MyDrive/Colab Notebooks/Analisi_Cardiac_MRI/primo_blocco_analisi/database/training/patient039/patient039_frame01_gt_preprocessed.nii.gz', '/content/drive/MyDrive/Colab Notebooks/Analisi_Cardiac_MRI/primo_blocco_analisi/database/training/patient039/patient039_frame10_gt_preprocessed.nii.gz', '/content/drive/MyDrive/Colab Notebooks/Analisi_Cardiac_MRI/primo_blocco_analisi/database/training/patient040/patient040_frame01_gt_preprocessed.nii.gz', '/content/drive/MyDrive/Colab Notebooks/Analisi_Cardiac_MRI/primo_blocco_analisi/database/training/patient040/patient040_frame13_gt_preprocessed.nii.gz', '/content/drive/MyDrive/Colab Notebooks/Analisi_Cardiac_MRI/primo_blocco_analisi/database/training/patient041/patient041_frame01_gt_preprocessed.nii.gz', '/content/drive/MyDrive/Colab Notebooks/Analisi_Cardiac_MRI/primo_blocco_analisi/database/training/patient041/patient041_frame11_gt_preprocessed.nii.gz', '/content/drive/MyDrive/Colab Notebooks/Analisi_Cardiac_MRI/primo_blocco_analisi/database/training/patient042/patient042_frame01_gt_preprocessed.nii.gz', '/content/drive/MyDrive/Colab Notebooks/Analisi_Cardiac_MRI/primo_blocco_analisi/database/training/patient042/patient042_frame16_gt_preprocessed.nii.gz', '/content/drive/MyDrive/Colab Notebooks/Analisi_Cardiac_MRI/primo_blocco_analisi/database/training/patient043/patient043_frame01_gt_preprocessed.nii.gz', '/content/drive/MyDrive/Colab Notebooks/Analisi_Cardiac_MRI/primo_blocco_analisi/database/training/patient043/patient043_frame07_gt_preprocessed.nii.gz', '/content/drive/MyDrive/Colab Notebooks/Analisi_Cardiac_MRI/primo_blocco_analisi/database/training/patient044/patient044_frame01_gt_preprocessed.nii.gz', '/content/drive/MyDrive/Colab Notebooks/Analisi_Cardiac_MRI/primo_blocco_analisi/database/training/patient044/patient044_frame11_gt_preprocessed.nii.gz', '/content/drive/MyDrive/Colab Notebooks/Analisi_Cardiac_MRI/primo_blocco_analisi/database/training/patient045/patient045_frame01_gt_preprocessed.nii.gz', '/content/drive/MyDrive/Colab Notebooks/Analisi_Cardiac_MRI/primo_blocco_analisi/database/training/patient045/patient045_frame13_gt_preprocessed.nii.gz', '/content/drive/MyDrive/Colab Notebooks/Analisi_Cardiac_MRI/primo_blocco_analisi/database/training/patient046/patient046_frame01_gt_preprocessed.nii.gz', '/content/drive/MyDrive/Colab Notebooks/Analisi_Cardiac_MRI/primo_blocco_analisi/database/training/patient046/patient046_frame10_gt_preprocessed.nii.gz', '/content/drive/MyDrive/Colab Notebooks/Analisi_Cardiac_MRI/primo_blocco_analisi/database/training/patient047/patient047_frame01_gt_preprocessed.nii.gz', '/content/drive/MyDrive/Colab Notebooks/Analisi_Cardiac_MRI/primo_blocco_analisi/database/training/patient047/patient047_frame09_gt_preprocessed.nii.gz', '/content/drive/MyDrive/Colab Notebooks/Analisi_Cardiac_MRI/primo_blocco_analisi/database/training/patient048/patient048_frame01_gt_preprocessed.nii.gz', '/content/drive/MyDrive/Colab Notebooks/Analisi_Cardiac_MRI/primo_blocco_analisi/database/training/patient048/patient048_frame08_gt_preprocessed.nii.gz', '/content/drive/MyDrive/Colab Notebooks/Analisi_Cardiac_MRI/primo_blocco_analisi/database/training/patient049/patient049_frame01_gt_preprocessed.nii.gz', '/content/drive/MyDrive/Colab Notebooks/Analisi_Cardiac_MRI/primo_blocco_analisi/database/training/patient049/patient049_frame11_gt_preprocessed.nii.gz', '/content/drive/MyDrive/Colab Notebooks/Analisi_Cardiac_MRI/primo_blocco_analisi/database/training/patient050/patient050_frame01_gt_preprocessed.nii.gz', '/content/drive/MyDrive/Colab Notebooks/Analisi_Cardiac_MRI/primo_blocco_analisi/database/training/patient050/patient050_frame12_gt_preprocessed.nii.gz', '/content/drive/MyDrive/Colab Notebooks/Analisi_Cardiac_MRI/primo_blocco_analisi/database/training/patient051/patient051_frame01_gt_preprocessed.nii.gz', '/content/drive/MyDrive/Colab Notebooks/Analisi_Cardiac_MRI/primo_blocco_analisi/database/training/patient051/patient051_frame11_gt_preprocessed.nii.gz', '/content/drive/MyDrive/Colab Notebooks/Analisi_Cardiac_MRI/primo_blocco_analisi/database/training/patient052/patient052_frame01_gt_preprocessed.nii.gz', '/content/drive/MyDrive/Colab Notebooks/Analisi_Cardiac_MRI/primo_blocco_analisi/database/training/patient052/patient052_frame09_gt_preprocessed.nii.gz', '/content/drive/MyDrive/Colab Notebooks/Analisi_Cardiac_MRI/primo_blocco_analisi/database/training/patient053/patient053_frame01_gt_preprocessed.nii.gz', '/content/drive/MyDrive/Colab Notebooks/Analisi_Cardiac_MRI/primo_blocco_analisi/database/training/patient053/patient053_frame12_gt_preprocessed.nii.gz', '/content/drive/MyDrive/Colab Notebooks/Analisi_Cardiac_MRI/primo_blocco_analisi/database/training/patient054/patient054_frame01_gt_preprocessed.nii.gz', '/content/drive/MyDrive/Colab Notebooks/Analisi_Cardiac_MRI/primo_blocco_analisi/database/training/patient054/patient054_frame12_gt_preprocessed.nii.gz', '/content/drive/MyDrive/Colab Notebooks/Analisi_Cardiac_MRI/primo_blocco_analisi/database/training/patient055/patient055_frame01_gt_preprocessed.nii.gz', '/content/drive/MyDrive/Colab Notebooks/Analisi_Cardiac_MRI/primo_blocco_analisi/database/training/patient055/patient055_frame10_gt_preprocessed.nii.gz', '/content/drive/MyDrive/Colab Notebooks/Analisi_Cardiac_MRI/primo_blocco_analisi/database/training/patient056/patient056_frame01_gt_preprocessed.nii.gz', '/content/drive/MyDrive/Colab Notebooks/Analisi_Cardiac_MRI/primo_blocco_analisi/database/training/patient056/patient056_frame12_gt_preprocessed.nii.gz', '/content/drive/MyDrive/Colab Notebooks/Analisi_Cardiac_MRI/primo_blocco_analisi/database/training/patient057/patient057_frame01_gt_preprocessed.nii.gz', '/content/drive/MyDrive/Colab Notebooks/Analisi_Cardiac_MRI/primo_blocco_analisi/database/training/patient057/patient057_frame09_gt_preprocessed.nii.gz', '/content/drive/MyDrive/Colab Notebooks/Analisi_Cardiac_MRI/primo_blocco_analisi/database/training/patient058/patient058_frame01_gt_preprocessed.nii.gz', '/content/drive/MyDrive/Colab Notebooks/Analisi_Cardiac_MRI/primo_blocco_analisi/database/training/patient058/patient058_frame14_gt_preprocessed.nii.gz', '/content/drive/MyDrive/Colab Notebooks/Analisi_Cardiac_MRI/primo_blocco_analisi/database/training/patient059/patient059_frame01_gt_preprocessed.nii.gz', '/content/drive/MyDrive/Colab Notebooks/Analisi_Cardiac_MRI/primo_blocco_analisi/database/training/patient059/patient059_frame09_gt_preprocessed.nii.gz', '/content/drive/MyDrive/Colab Notebooks/Analisi_Cardiac_MRI/primo_blocco_analisi/database/training/patient060/patient060_frame01_gt_preprocessed.nii.gz', '/content/drive/MyDrive/Colab Notebooks/Analisi_Cardiac_MRI/primo_blocco_analisi/database/training/patient060/patient060_frame14_gt_preprocessed.nii.gz', '/content/drive/MyDrive/Colab Notebooks/Analisi_Cardiac_MRI/primo_blocco_analisi/database/training/patient061/patient061_frame01_gt_preprocessed.nii.gz', '/content/drive/MyDrive/Colab Notebooks/Analisi_Cardiac_MRI/primo_blocco_analisi/database/training/patient061/patient061_frame10_gt_preprocessed.nii.gz', '/content/drive/MyDrive/Colab Notebooks/Analisi_Cardiac_MRI/primo_blocco_analisi/database/training/patient062/patient062_frame01_gt_preprocessed.nii.gz', '/content/drive/MyDrive/Colab Notebooks/Analisi_Cardiac_MRI/primo_blocco_analisi/database/training/patient062/patient062_frame09_gt_preprocessed.nii.gz', '/content/drive/MyDrive/Colab Notebooks/Analisi_Cardiac_MRI/primo_blocco_analisi/database/training/patient063/patient063_frame01_gt_preprocessed.nii.gz', '/content/drive/MyDrive/Colab Notebooks/Analisi_Cardiac_MRI/primo_blocco_analisi/database/training/patient063/patient063_frame16_gt_preprocessed.nii.gz', '/content/drive/MyDrive/Colab Notebooks/Analisi_Cardiac_MRI/primo_blocco_analisi/database/training/patient064/patient064_frame01_gt_preprocessed.nii.gz', '/content/drive/MyDrive/Colab Notebooks/Analisi_Cardiac_MRI/primo_blocco_analisi/database/training/patient064/patient064_frame12_gt_preprocessed.nii.gz', '/content/drive/MyDrive/Colab Notebooks/Analisi_Cardiac_MRI/primo_blocco_analisi/database/training/patient065/patient065_frame01_gt_preprocessed.nii.gz', '/content/drive/MyDrive/Colab Notebooks/Analisi_Cardiac_MRI/primo_blocco_analisi/database/training/patient065/patient065_frame14_gt_preprocessed.nii.gz', '/content/drive/MyDrive/Colab Notebooks/Analisi_Cardiac_MRI/primo_blocco_analisi/database/training/patient066/patient066_frame01_gt_preprocessed.nii.gz', '/content/drive/MyDrive/Colab Notebooks/Analisi_Cardiac_MRI/primo_blocco_analisi/database/training/patient066/patient066_frame11_gt_preprocessed.nii.gz', '/content/drive/MyDrive/Colab Notebooks/Analisi_Cardiac_MRI/primo_blocco_analisi/database/training/patient067/patient067_frame01_gt_preprocessed.nii.gz', '/content/drive/MyDrive/Colab Notebooks/Analisi_Cardiac_MRI/primo_blocco_analisi/database/training/patient067/patient067_frame10_gt_preprocessed.nii.gz', '/content/drive/MyDrive/Colab Notebooks/Analisi_Cardiac_MRI/primo_blocco_analisi/database/training/patient068/patient068_frame01_gt_preprocessed.nii.gz', '/content/drive/MyDrive/Colab Notebooks/Analisi_Cardiac_MRI/primo_blocco_analisi/database/training/patient068/patient068_frame12_gt_preprocessed.nii.gz', '/content/drive/MyDrive/Colab Notebooks/Analisi_Cardiac_MRI/primo_blocco_analisi/database/training/patient069/patient069_frame01_gt_preprocessed.nii.gz', '/content/drive/MyDrive/Colab Notebooks/Analisi_Cardiac_MRI/primo_blocco_analisi/database/training/patient069/patient069_frame12_gt_preprocessed.nii.gz', '/content/drive/MyDrive/Colab Notebooks/Analisi_Cardiac_MRI/primo_blocco_analisi/database/training/patient070/patient070_frame01_gt_preprocessed.nii.gz', '/content/drive/MyDrive/Colab Notebooks/Analisi_Cardiac_MRI/primo_blocco_analisi/database/training/patient070/patient070_frame10_gt_preprocessed.nii.gz', '/content/drive/MyDrive/Colab Notebooks/Analisi_Cardiac_MRI/primo_blocco_analisi/database/training/patient071/patient071_frame01_gt_preprocessed.nii.gz', '/content/drive/MyDrive/Colab Notebooks/Analisi_Cardiac_MRI/primo_blocco_analisi/database/training/patient071/patient071_frame09_gt_preprocessed.nii.gz', '/content/drive/MyDrive/Colab Notebooks/Analisi_Cardiac_MRI/primo_blocco_analisi/database/training/patient072/patient072_frame01_gt_preprocessed.nii.gz', '/content/drive/MyDrive/Colab Notebooks/Analisi_Cardiac_MRI/primo_blocco_analisi/database/training/patient072/patient072_frame11_gt_preprocessed.nii.gz', '/content/drive/MyDrive/Colab Notebooks/Analisi_Cardiac_MRI/primo_blocco_analisi/database/training/patient073/patient073_frame01_gt_preprocessed.nii.gz', '/content/drive/MyDrive/Colab Notebooks/Analisi_Cardiac_MRI/primo_blocco_analisi/database/training/patient073/patient073_frame10_gt_preprocessed.nii.gz', '/content/drive/MyDrive/Colab Notebooks/Analisi_Cardiac_MRI/primo_blocco_analisi/database/training/patient074/patient074_frame01_gt_preprocessed.nii.gz', '/content/drive/MyDrive/Colab Notebooks/Analisi_Cardiac_MRI/primo_blocco_analisi/database/training/patient074/patient074_frame12_gt_preprocessed.nii.gz', '/content/drive/MyDrive/Colab Notebooks/Analisi_Cardiac_MRI/primo_blocco_analisi/database/training/patient075/patient075_frame01_gt_preprocessed.nii.gz', '/content/drive/MyDrive/Colab Notebooks/Analisi_Cardiac_MRI/primo_blocco_analisi/database/training/patient075/patient075_frame06_gt_preprocessed.nii.gz', '/content/drive/MyDrive/Colab Notebooks/Analisi_Cardiac_MRI/primo_blocco_analisi/database/training/patient076/patient076_frame01_gt_preprocessed.nii.gz', '/content/drive/MyDrive/Colab Notebooks/Analisi_Cardiac_MRI/primo_blocco_analisi/database/training/patient076/patient076_frame12_gt_preprocessed.nii.gz', '/content/drive/MyDrive/Colab Notebooks/Analisi_Cardiac_MRI/primo_blocco_analisi/database/training/patient077/patient077_frame01_gt_preprocessed.nii.gz', '/content/drive/MyDrive/Colab Notebooks/Analisi_Cardiac_MRI/primo_blocco_analisi/database/training/patient077/patient077_frame09_gt_preprocessed.nii.gz', '/content/drive/MyDrive/Colab Notebooks/Analisi_Cardiac_MRI/primo_blocco_analisi/database/training/patient078/patient078_frame01_gt_preprocessed.nii.gz', '/content/drive/MyDrive/Colab Notebooks/Analisi_Cardiac_MRI/primo_blocco_analisi/database/training/patient078/patient078_frame09_gt_preprocessed.nii.gz', '/content/drive/MyDrive/Colab Notebooks/Analisi_Cardiac_MRI/primo_blocco_analisi/database/training/patient079/patient079_frame01_gt_preprocessed.nii.gz', '/content/drive/MyDrive/Colab Notebooks/Analisi_Cardiac_MRI/primo_blocco_analisi/database/training/patient079/patient079_frame11_gt_preprocessed.nii.gz', '/content/drive/MyDrive/Colab Notebooks/Analisi_Cardiac_MRI/primo_blocco_analisi/database/training/patient080/patient080_frame01_gt_preprocessed.nii.gz', '/content/drive/MyDrive/Colab Notebooks/Analisi_Cardiac_MRI/primo_blocco_analisi/database/training/patient080/patient080_frame10_gt_preprocessed.nii.gz', '/content/drive/MyDrive/Colab Notebooks/Analisi_Cardiac_MRI/primo_blocco_analisi/database/training/patient081/patient081_frame01_gt_preprocessed.nii.gz', '/content/drive/MyDrive/Colab Notebooks/Analisi_Cardiac_MRI/primo_blocco_analisi/database/training/patient081/patient081_frame07_gt_preprocessed.nii.gz', '/content/drive/MyDrive/Colab Notebooks/Analisi_Cardiac_MRI/primo_blocco_analisi/database/training/patient082/patient082_frame01_gt_preprocessed.nii.gz', '/content/drive/MyDrive/Colab Notebooks/Analisi_Cardiac_MRI/primo_blocco_analisi/database/training/patient082/patient082_frame07_gt_preprocessed.nii.gz', '/content/drive/MyDrive/Colab Notebooks/Analisi_Cardiac_MRI/primo_blocco_analisi/database/training/patient083/patient083_frame01_gt_preprocessed.nii.gz', '/content/drive/MyDrive/Colab Notebooks/Analisi_Cardiac_MRI/primo_blocco_analisi/database/training/patient083/patient083_frame08_gt_preprocessed.nii.gz', '/content/drive/MyDrive/Colab Notebooks/Analisi_Cardiac_MRI/primo_blocco_analisi/database/training/patient084/patient084_frame01_gt_preprocessed.nii.gz', '/content/drive/MyDrive/Colab Notebooks/Analisi_Cardiac_MRI/primo_blocco_analisi/database/training/patient084/patient084_frame10_gt_preprocessed.nii.gz', '/content/drive/MyDrive/Colab Notebooks/Analisi_Cardiac_MRI/primo_blocco_analisi/database/training/patient085/patient085_frame01_gt_preprocessed.nii.gz', '/content/drive/MyDrive/Colab Notebooks/Analisi_Cardiac_MRI/primo_blocco_analisi/database/training/patient085/patient085_frame09_gt_preprocessed.nii.gz', '/content/drive/MyDrive/Colab Notebooks/Analisi_Cardiac_MRI/primo_blocco_analisi/database/training/patient086/patient086_frame01_gt_preprocessed.nii.gz', '/content/drive/MyDrive/Colab Notebooks/Analisi_Cardiac_MRI/primo_blocco_analisi/database/training/patient086/patient086_frame08_gt_preprocessed.nii.gz', '/content/drive/MyDrive/Colab Notebooks/Analisi_Cardiac_MRI/primo_blocco_analisi/database/training/patient087/patient087_frame01_gt_preprocessed.nii.gz', '/content/drive/MyDrive/Colab Notebooks/Analisi_Cardiac_MRI/primo_blocco_analisi/database/training/patient087/patient087_frame10_gt_preprocessed.nii.gz', '/content/drive/MyDrive/Colab Notebooks/Analisi_Cardiac_MRI/primo_blocco_analisi/database/training/patient088/patient088_frame01_gt_preprocessed.nii.gz', '/content/drive/MyDrive/Colab Notebooks/Analisi_Cardiac_MRI/primo_blocco_analisi/database/training/patient088/patient088_frame12_gt_preprocessed.nii.gz', '/content/drive/MyDrive/Colab Notebooks/Analisi_Cardiac_MRI/primo_blocco_analisi/database/training/patient089/patient089_frame01_gt_preprocessed.nii.gz', '/content/drive/MyDrive/Colab Notebooks/Analisi_Cardiac_MRI/primo_blocco_analisi/database/training/patient089/patient089_frame10_gt_preprocessed.nii.gz', '/content/drive/MyDrive/Colab Notebooks/Analisi_Cardiac_MRI/primo_blocco_analisi/database/training/patient090/patient090_frame04_gt_preprocessed.nii.gz', '/content/drive/MyDrive/Colab Notebooks/Analisi_Cardiac_MRI/primo_blocco_analisi/database/training/patient090/patient090_frame11_gt_preprocessed.nii.gz', '/content/drive/MyDrive/Colab Notebooks/Analisi_Cardiac_MRI/primo_blocco_analisi/database/training/patient091/patient091_frame01_gt_preprocessed.nii.gz', '/content/drive/MyDrive/Colab Notebooks/Analisi_Cardiac_MRI/primo_blocco_analisi/database/training/patient091/patient091_frame09_gt_preprocessed.nii.gz', '/content/drive/MyDrive/Colab Notebooks/Analisi_Cardiac_MRI/primo_blocco_analisi/database/training/patient092/patient092_frame01_gt_preprocessed.nii.gz', '/content/drive/MyDrive/Colab Notebooks/Analisi_Cardiac_MRI/primo_blocco_analisi/database/training/patient092/patient092_frame06_gt_preprocessed.nii.gz', '/content/drive/MyDrive/Colab Notebooks/Analisi_Cardiac_MRI/primo_blocco_analisi/database/training/patient093/patient093_frame01_gt_preprocessed.nii.gz', '/content/drive/MyDrive/Colab Notebooks/Analisi_Cardiac_MRI/primo_blocco_analisi/database/training/patient093/patient093_frame14_gt_preprocessed.nii.gz', '/content/drive/MyDrive/Colab Notebooks/Analisi_Cardiac_MRI/primo_blocco_analisi/database/training/patient094/patient094_frame01_gt_preprocessed.nii.gz', '/content/drive/MyDrive/Colab Notebooks/Analisi_Cardiac_MRI/primo_blocco_analisi/database/training/patient094/patient094_frame07_gt_preprocessed.nii.gz', '/content/drive/MyDrive/Colab Notebooks/Analisi_Cardiac_MRI/primo_blocco_analisi/database/training/patient095/patient095_frame01_gt_preprocessed.nii.gz', '/content/drive/MyDrive/Colab Notebooks/Analisi_Cardiac_MRI/primo_blocco_analisi/database/training/patient095/patient095_frame12_gt_preprocessed.nii.gz', '/content/drive/MyDrive/Colab Notebooks/Analisi_Cardiac_MRI/primo_blocco_analisi/database/training/patient096/patient096_frame01_gt_preprocessed.nii.gz', '/content/drive/MyDrive/Colab Notebooks/Analisi_Cardiac_MRI/primo_blocco_analisi/database/training/patient096/patient096_frame08_gt_preprocessed.nii.gz', '/content/drive/MyDrive/Colab Notebooks/Analisi_Cardiac_MRI/primo_blocco_analisi/database/training/patient097/patient097_frame01_gt_preprocessed.nii.gz', '/content/drive/MyDrive/Colab Notebooks/Analisi_Cardiac_MRI/primo_blocco_analisi/database/training/patient097/patient097_frame11_gt_preprocessed.nii.gz', '/content/drive/MyDrive/Colab Notebooks/Analisi_Cardiac_MRI/primo_blocco_analisi/database/training/patient098/patient098_frame01_gt_preprocessed.nii.gz', '/content/drive/MyDrive/Colab Notebooks/Analisi_Cardiac_MRI/primo_blocco_analisi/database/training/patient098/patient098_frame09_gt_preprocessed.nii.gz', '/content/drive/MyDrive/Colab Notebooks/Analisi_Cardiac_MRI/primo_blocco_analisi/database/training/patient099/patient099_frame01_gt_preprocessed.nii.gz', '/content/drive/MyDrive/Colab Notebooks/Analisi_Cardiac_MRI/primo_blocco_analisi/database/training/patient099/patient099_frame09_gt_preprocessed.nii.gz', '/content/drive/MyDrive/Colab Notebooks/Analisi_Cardiac_MRI/primo_blocco_analisi/database/training/patient100/patient100_frame01_gt_preprocessed.nii.gz', '/content/drive/MyDrive/Colab Notebooks/Analisi_Cardiac_MRI/primo_blocco_analisi/database/training/patient100/patient100_frame13_gt_preprocessed.nii.gz']\n"
          ]
        }
      ]
    },
    {
      "cell_type": "code",
      "source": [
        "image_mask_pairs = list(zip(image_paths, mask_paths))\n",
        "train_pairs, val_pairs = train_test_split(image_mask_pairs, test_size=0.2, random_state=42)\n",
        "train_imgs, train_masks = zip(*train_pairs)\n",
        "val_imgs, val_masks = zip(*val_pairs)\n",
        "\n",
        "transform = transforms.Compose([\n",
        "    transforms.Resize((160, 160)),\n",
        "])\n",
        "\n",
        "# Creazione dataset\n",
        "train_dataset = MRI_Dataset(list(train_imgs), list(train_masks), num_slices=5, transform=transform)\n",
        "val_dataset = MRI_Dataset(list(val_imgs), list(val_masks), num_slices=5, transform=transform)\n",
        "\n",
        "# Creazione DataLoader\n",
        "train_loader = DataLoader(train_dataset, batch_size=4, shuffle=True)\n",
        "val_loader = DataLoader(val_dataset, batch_size=4, shuffle=False)"
      ],
      "metadata": {
        "id": "9CIzdmk7jFOK"
      },
      "execution_count": 7,
      "outputs": []
    },
    {
      "cell_type": "code",
      "source": [
        "\n"
      ],
      "metadata": {
        "id": "g4Gt3QbpAkXO"
      },
      "execution_count": 7,
      "outputs": []
    },
    {
      "cell_type": "code",
      "source": [
        "from torchinfo import summary\n",
        "num_slices = 6\n",
        "num_classes = 4\n",
        "batch_size=4\n",
        "model = UNetVGG16()\n",
        "summary(model)\n"
      ],
      "metadata": {
        "colab": {
          "base_uri": "https://localhost:8080/"
        },
        "id": "JJRIpcQIjLiz",
        "outputId": "fbc863d6-ea8d-4b25-a291-9256a5eb294e"
      },
      "execution_count": 8,
      "outputs": [
        {
          "output_type": "execute_result",
          "data": {
            "text/plain": [
              "=================================================================\n",
              "Layer (type:depth-idx)                   Param #\n",
              "=================================================================\n",
              "UNetVGG16                                --\n",
              "├─Sequential: 1-1                        --\n",
              "│    └─Conv2d: 2-1                       640\n",
              "│    └─ReLU: 2-2                         --\n",
              "│    └─Conv2d: 2-3                       36,928\n",
              "│    └─ReLU: 2-4                         --\n",
              "│    └─MaxPool2d: 2-5                    --\n",
              "│    └─Conv2d: 2-6                       73,856\n",
              "├─Sequential: 1-2                        --\n",
              "│    └─ReLU: 2-7                         --\n",
              "│    └─Conv2d: 2-8                       147,584\n",
              "│    └─ReLU: 2-9                         --\n",
              "│    └─MaxPool2d: 2-10                   --\n",
              "│    └─Conv2d: 2-11                      295,168\n",
              "│    └─ReLU: 2-12                        --\n",
              "│    └─Conv2d: 2-13                      590,080\n",
              "├─Sequential: 1-3                        --\n",
              "│    └─ReLU: 2-14                        --\n",
              "│    └─Conv2d: 2-15                      590,080\n",
              "│    └─ReLU: 2-16                        --\n",
              "│    └─MaxPool2d: 2-17                   --\n",
              "│    └─Conv2d: 2-18                      1,180,160\n",
              "│    └─ReLU: 2-19                        --\n",
              "│    └─Conv2d: 2-20                      2,359,808\n",
              "│    └─ReLU: 2-21                        --\n",
              "│    └─Conv2d: 2-22                      2,359,808\n",
              "│    └─ReLU: 2-23                        --\n",
              "├─Sequential: 1-4                        --\n",
              "│    └─MaxPool2d: 2-24                   --\n",
              "│    └─Conv2d: 2-25                      2,359,808\n",
              "│    └─ReLU: 2-26                        --\n",
              "│    └─Conv2d: 2-27                      2,359,808\n",
              "│    └─ReLU: 2-28                        --\n",
              "│    └─Conv2d: 2-29                      2,359,808\n",
              "│    └─ReLU: 2-30                        --\n",
              "│    └─MaxPool2d: 2-31                   --\n",
              "├─Sequential: 1-5                        --\n",
              "├─Sequential: 1-6                        --\n",
              "│    └─Conv2d: 2-32                      4,719,616\n",
              "│    └─ReLU: 2-33                        --\n",
              "│    └─Conv2d: 2-34                      9,438,208\n",
              "│    └─ReLU: 2-35                        --\n",
              "├─ConvTranspose2d: 1-7                   2,097,664\n",
              "├─ConvTranspose2d: 1-8                   524,544\n",
              "├─ConvTranspose2d: 1-9                   131,200\n",
              "├─ConvTranspose2d: 1-10                  32,832\n",
              "├─ConvTranspose2d: 1-11                  16,448\n",
              "├─Conv2d: 1-12                           65\n",
              "=================================================================\n",
              "Total params: 31,674,113\n",
              "Trainable params: 31,674,113\n",
              "Non-trainable params: 0\n",
              "================================================================="
            ]
          },
          "metadata": {},
          "execution_count": 8
        }
      ]
    },
    {
      "cell_type": "code",
      "source": [
        "trained_model = train_unet(model, train_loader, val_loader, epochs=100)"
      ],
      "metadata": {
        "colab": {
          "base_uri": "https://localhost:8080/",
          "height": 282
        },
        "id": "RdY_QKlljLnw",
        "outputId": "9f5c7e43-e82a-4ebc-964f-87f23021a74c"
      },
      "execution_count": 11,
      "outputs": [
        {
          "output_type": "error",
          "ename": "RuntimeError",
          "evalue": "Found no NVIDIA driver on your system. Please check that you have an NVIDIA GPU and installed a driver from http://www.nvidia.com/Download/index.aspx",
          "traceback": [
            "\u001b[0;31m---------------------------------------------------------------------------\u001b[0m",
            "\u001b[0;31mRuntimeError\u001b[0m                              Traceback (most recent call last)",
            "\u001b[0;32m<ipython-input-11-68699faf7e3b>\u001b[0m in \u001b[0;36m<cell line: 0>\u001b[0;34m()\u001b[0m\n\u001b[0;32m----> 1\u001b[0;31m \u001b[0mtrained_model\u001b[0m \u001b[0;34m=\u001b[0m \u001b[0mtrain_unet\u001b[0m\u001b[0;34m(\u001b[0m\u001b[0mmodel\u001b[0m\u001b[0;34m,\u001b[0m \u001b[0mtrain_loader\u001b[0m\u001b[0;34m,\u001b[0m \u001b[0mval_loader\u001b[0m\u001b[0;34m,\u001b[0m \u001b[0mepochs\u001b[0m\u001b[0;34m=\u001b[0m\u001b[0;36m100\u001b[0m\u001b[0;34m)\u001b[0m\u001b[0;34m\u001b[0m\u001b[0;34m\u001b[0m\u001b[0m\n\u001b[0m",
            "\u001b[0;32m<ipython-input-10-0d4aa1d16383>\u001b[0m in \u001b[0;36mtrain_unet\u001b[0;34m(model, train_loader, val_loader, epochs, lr, device)\u001b[0m\n\u001b[1;32m     44\u001b[0m \u001b[0;34m\u001b[0m\u001b[0m\n\u001b[1;32m     45\u001b[0m \u001b[0;32mdef\u001b[0m \u001b[0mtrain_unet\u001b[0m\u001b[0;34m(\u001b[0m\u001b[0mmodel\u001b[0m\u001b[0;34m,\u001b[0m \u001b[0mtrain_loader\u001b[0m\u001b[0;34m,\u001b[0m \u001b[0mval_loader\u001b[0m\u001b[0;34m,\u001b[0m \u001b[0mepochs\u001b[0m\u001b[0;34m=\u001b[0m\u001b[0;36m10\u001b[0m\u001b[0;34m,\u001b[0m \u001b[0mlr\u001b[0m\u001b[0;34m=\u001b[0m\u001b[0;36m0.001\u001b[0m\u001b[0;34m,\u001b[0m \u001b[0mdevice\u001b[0m\u001b[0;34m=\u001b[0m\u001b[0;34m\"cuda\"\u001b[0m\u001b[0;34m)\u001b[0m\u001b[0;34m:\u001b[0m\u001b[0;34m\u001b[0m\u001b[0;34m\u001b[0m\u001b[0m\n\u001b[0;32m---> 46\u001b[0;31m     \u001b[0mmodel\u001b[0m\u001b[0;34m.\u001b[0m\u001b[0mto\u001b[0m\u001b[0;34m(\u001b[0m\u001b[0mdevice\u001b[0m\u001b[0;34m)\u001b[0m\u001b[0;34m\u001b[0m\u001b[0;34m\u001b[0m\u001b[0m\n\u001b[0m\u001b[1;32m     47\u001b[0m     \u001b[0mcriterion\u001b[0m \u001b[0;34m=\u001b[0m \u001b[0mDiceLoss\u001b[0m\u001b[0;34m(\u001b[0m\u001b[0;34m)\u001b[0m\u001b[0;34m\u001b[0m\u001b[0;34m\u001b[0m\u001b[0m\n\u001b[1;32m     48\u001b[0m     \u001b[0moptimizer\u001b[0m \u001b[0;34m=\u001b[0m \u001b[0moptim\u001b[0m\u001b[0;34m.\u001b[0m\u001b[0mAdam\u001b[0m\u001b[0;34m(\u001b[0m\u001b[0mmodel\u001b[0m\u001b[0;34m.\u001b[0m\u001b[0mparameters\u001b[0m\u001b[0;34m(\u001b[0m\u001b[0;34m)\u001b[0m\u001b[0;34m,\u001b[0m \u001b[0mlr\u001b[0m\u001b[0;34m=\u001b[0m\u001b[0mlr\u001b[0m\u001b[0;34m)\u001b[0m\u001b[0;34m\u001b[0m\u001b[0;34m\u001b[0m\u001b[0m\n",
            "\u001b[0;32m/usr/local/lib/python3.11/dist-packages/torch/nn/modules/module.py\u001b[0m in \u001b[0;36mto\u001b[0;34m(self, *args, **kwargs)\u001b[0m\n\u001b[1;32m   1338\u001b[0m                     \u001b[0;32mraise\u001b[0m\u001b[0;34m\u001b[0m\u001b[0;34m\u001b[0m\u001b[0m\n\u001b[1;32m   1339\u001b[0m \u001b[0;34m\u001b[0m\u001b[0m\n\u001b[0;32m-> 1340\u001b[0;31m         \u001b[0;32mreturn\u001b[0m \u001b[0mself\u001b[0m\u001b[0;34m.\u001b[0m\u001b[0m_apply\u001b[0m\u001b[0;34m(\u001b[0m\u001b[0mconvert\u001b[0m\u001b[0;34m)\u001b[0m\u001b[0;34m\u001b[0m\u001b[0;34m\u001b[0m\u001b[0m\n\u001b[0m\u001b[1;32m   1341\u001b[0m \u001b[0;34m\u001b[0m\u001b[0m\n\u001b[1;32m   1342\u001b[0m     def register_full_backward_pre_hook(\n",
            "\u001b[0;32m/usr/local/lib/python3.11/dist-packages/torch/nn/modules/module.py\u001b[0m in \u001b[0;36m_apply\u001b[0;34m(self, fn, recurse)\u001b[0m\n\u001b[1;32m    898\u001b[0m         \u001b[0;32mif\u001b[0m \u001b[0mrecurse\u001b[0m\u001b[0;34m:\u001b[0m\u001b[0;34m\u001b[0m\u001b[0;34m\u001b[0m\u001b[0m\n\u001b[1;32m    899\u001b[0m             \u001b[0;32mfor\u001b[0m \u001b[0mmodule\u001b[0m \u001b[0;32min\u001b[0m \u001b[0mself\u001b[0m\u001b[0;34m.\u001b[0m\u001b[0mchildren\u001b[0m\u001b[0;34m(\u001b[0m\u001b[0;34m)\u001b[0m\u001b[0;34m:\u001b[0m\u001b[0;34m\u001b[0m\u001b[0;34m\u001b[0m\u001b[0m\n\u001b[0;32m--> 900\u001b[0;31m                 \u001b[0mmodule\u001b[0m\u001b[0;34m.\u001b[0m\u001b[0m_apply\u001b[0m\u001b[0;34m(\u001b[0m\u001b[0mfn\u001b[0m\u001b[0;34m)\u001b[0m\u001b[0;34m\u001b[0m\u001b[0;34m\u001b[0m\u001b[0m\n\u001b[0m\u001b[1;32m    901\u001b[0m \u001b[0;34m\u001b[0m\u001b[0m\n\u001b[1;32m    902\u001b[0m         \u001b[0;32mdef\u001b[0m \u001b[0mcompute_should_use_set_data\u001b[0m\u001b[0;34m(\u001b[0m\u001b[0mtensor\u001b[0m\u001b[0;34m,\u001b[0m \u001b[0mtensor_applied\u001b[0m\u001b[0;34m)\u001b[0m\u001b[0;34m:\u001b[0m\u001b[0;34m\u001b[0m\u001b[0;34m\u001b[0m\u001b[0m\n",
            "\u001b[0;32m/usr/local/lib/python3.11/dist-packages/torch/nn/modules/module.py\u001b[0m in \u001b[0;36m_apply\u001b[0;34m(self, fn, recurse)\u001b[0m\n\u001b[1;32m    898\u001b[0m         \u001b[0;32mif\u001b[0m \u001b[0mrecurse\u001b[0m\u001b[0;34m:\u001b[0m\u001b[0;34m\u001b[0m\u001b[0;34m\u001b[0m\u001b[0m\n\u001b[1;32m    899\u001b[0m             \u001b[0;32mfor\u001b[0m \u001b[0mmodule\u001b[0m \u001b[0;32min\u001b[0m \u001b[0mself\u001b[0m\u001b[0;34m.\u001b[0m\u001b[0mchildren\u001b[0m\u001b[0;34m(\u001b[0m\u001b[0;34m)\u001b[0m\u001b[0;34m:\u001b[0m\u001b[0;34m\u001b[0m\u001b[0;34m\u001b[0m\u001b[0m\n\u001b[0;32m--> 900\u001b[0;31m                 \u001b[0mmodule\u001b[0m\u001b[0;34m.\u001b[0m\u001b[0m_apply\u001b[0m\u001b[0;34m(\u001b[0m\u001b[0mfn\u001b[0m\u001b[0;34m)\u001b[0m\u001b[0;34m\u001b[0m\u001b[0;34m\u001b[0m\u001b[0m\n\u001b[0m\u001b[1;32m    901\u001b[0m \u001b[0;34m\u001b[0m\u001b[0m\n\u001b[1;32m    902\u001b[0m         \u001b[0;32mdef\u001b[0m \u001b[0mcompute_should_use_set_data\u001b[0m\u001b[0;34m(\u001b[0m\u001b[0mtensor\u001b[0m\u001b[0;34m,\u001b[0m \u001b[0mtensor_applied\u001b[0m\u001b[0;34m)\u001b[0m\u001b[0;34m:\u001b[0m\u001b[0;34m\u001b[0m\u001b[0;34m\u001b[0m\u001b[0m\n",
            "\u001b[0;32m/usr/local/lib/python3.11/dist-packages/torch/nn/modules/module.py\u001b[0m in \u001b[0;36m_apply\u001b[0;34m(self, fn, recurse)\u001b[0m\n\u001b[1;32m    925\u001b[0m             \u001b[0;31m# `with torch.no_grad():`\u001b[0m\u001b[0;34m\u001b[0m\u001b[0;34m\u001b[0m\u001b[0m\n\u001b[1;32m    926\u001b[0m             \u001b[0;32mwith\u001b[0m \u001b[0mtorch\u001b[0m\u001b[0;34m.\u001b[0m\u001b[0mno_grad\u001b[0m\u001b[0;34m(\u001b[0m\u001b[0;34m)\u001b[0m\u001b[0;34m:\u001b[0m\u001b[0;34m\u001b[0m\u001b[0;34m\u001b[0m\u001b[0m\n\u001b[0;32m--> 927\u001b[0;31m                 \u001b[0mparam_applied\u001b[0m \u001b[0;34m=\u001b[0m \u001b[0mfn\u001b[0m\u001b[0;34m(\u001b[0m\u001b[0mparam\u001b[0m\u001b[0;34m)\u001b[0m\u001b[0;34m\u001b[0m\u001b[0;34m\u001b[0m\u001b[0m\n\u001b[0m\u001b[1;32m    928\u001b[0m             \u001b[0mp_should_use_set_data\u001b[0m \u001b[0;34m=\u001b[0m \u001b[0mcompute_should_use_set_data\u001b[0m\u001b[0;34m(\u001b[0m\u001b[0mparam\u001b[0m\u001b[0;34m,\u001b[0m \u001b[0mparam_applied\u001b[0m\u001b[0;34m)\u001b[0m\u001b[0;34m\u001b[0m\u001b[0;34m\u001b[0m\u001b[0m\n\u001b[1;32m    929\u001b[0m \u001b[0;34m\u001b[0m\u001b[0m\n",
            "\u001b[0;32m/usr/local/lib/python3.11/dist-packages/torch/nn/modules/module.py\u001b[0m in \u001b[0;36mconvert\u001b[0;34m(t)\u001b[0m\n\u001b[1;32m   1324\u001b[0m                         \u001b[0mmemory_format\u001b[0m\u001b[0;34m=\u001b[0m\u001b[0mconvert_to_format\u001b[0m\u001b[0;34m,\u001b[0m\u001b[0;34m\u001b[0m\u001b[0;34m\u001b[0m\u001b[0m\n\u001b[1;32m   1325\u001b[0m                     )\n\u001b[0;32m-> 1326\u001b[0;31m                 return t.to(\n\u001b[0m\u001b[1;32m   1327\u001b[0m                     \u001b[0mdevice\u001b[0m\u001b[0;34m,\u001b[0m\u001b[0;34m\u001b[0m\u001b[0;34m\u001b[0m\u001b[0m\n\u001b[1;32m   1328\u001b[0m                     \u001b[0mdtype\u001b[0m \u001b[0;32mif\u001b[0m \u001b[0mt\u001b[0m\u001b[0;34m.\u001b[0m\u001b[0mis_floating_point\u001b[0m\u001b[0;34m(\u001b[0m\u001b[0;34m)\u001b[0m \u001b[0;32mor\u001b[0m \u001b[0mt\u001b[0m\u001b[0;34m.\u001b[0m\u001b[0mis_complex\u001b[0m\u001b[0;34m(\u001b[0m\u001b[0;34m)\u001b[0m \u001b[0;32melse\u001b[0m \u001b[0;32mNone\u001b[0m\u001b[0;34m,\u001b[0m\u001b[0;34m\u001b[0m\u001b[0;34m\u001b[0m\u001b[0m\n",
            "\u001b[0;32m/usr/local/lib/python3.11/dist-packages/torch/cuda/__init__.py\u001b[0m in \u001b[0;36m_lazy_init\u001b[0;34m()\u001b[0m\n\u001b[1;32m    317\u001b[0m         \u001b[0;32mif\u001b[0m \u001b[0;34m\"CUDA_MODULE_LOADING\"\u001b[0m \u001b[0;32mnot\u001b[0m \u001b[0;32min\u001b[0m \u001b[0mos\u001b[0m\u001b[0;34m.\u001b[0m\u001b[0menviron\u001b[0m\u001b[0;34m:\u001b[0m\u001b[0;34m\u001b[0m\u001b[0;34m\u001b[0m\u001b[0m\n\u001b[1;32m    318\u001b[0m             \u001b[0mos\u001b[0m\u001b[0;34m.\u001b[0m\u001b[0menviron\u001b[0m\u001b[0;34m[\u001b[0m\u001b[0;34m\"CUDA_MODULE_LOADING\"\u001b[0m\u001b[0;34m]\u001b[0m \u001b[0;34m=\u001b[0m \u001b[0;34m\"LAZY\"\u001b[0m\u001b[0;34m\u001b[0m\u001b[0;34m\u001b[0m\u001b[0m\n\u001b[0;32m--> 319\u001b[0;31m         \u001b[0mtorch\u001b[0m\u001b[0;34m.\u001b[0m\u001b[0m_C\u001b[0m\u001b[0;34m.\u001b[0m\u001b[0m_cuda_init\u001b[0m\u001b[0;34m(\u001b[0m\u001b[0;34m)\u001b[0m\u001b[0;34m\u001b[0m\u001b[0;34m\u001b[0m\u001b[0m\n\u001b[0m\u001b[1;32m    320\u001b[0m         \u001b[0;31m# Some of the queued calls may reentrantly call _lazy_init();\u001b[0m\u001b[0;34m\u001b[0m\u001b[0;34m\u001b[0m\u001b[0m\n\u001b[1;32m    321\u001b[0m         \u001b[0;31m# we need to just return without initializing in that case.\u001b[0m\u001b[0;34m\u001b[0m\u001b[0;34m\u001b[0m\u001b[0m\n",
            "\u001b[0;31mRuntimeError\u001b[0m: Found no NVIDIA driver on your system. Please check that you have an NVIDIA GPU and installed a driver from http://www.nvidia.com/Download/index.aspx"
          ]
        }
      ]
    },
    {
      "cell_type": "code",
      "source": [
        "save_segmentations(trained_model, val_loader)"
      ],
      "metadata": {
        "id": "keLY0pm2pA1l"
      },
      "execution_count": null,
      "outputs": []
    },
    {
      "cell_type": "markdown",
      "source": [],
      "metadata": {
        "id": "4Du5eYPxpBWY"
      }
    },
    {
      "cell_type": "code",
      "source": [],
      "metadata": {
        "id": "uiqskhsAOyYA"
      },
      "execution_count": null,
      "outputs": []
    },
    {
      "cell_type": "code",
      "source": [
        "\n"
      ],
      "metadata": {
        "id": "d1HBF2yhXqcN"
      },
      "execution_count": null,
      "outputs": []
    },
    {
      "cell_type": "code",
      "source": [],
      "metadata": {
        "id": "sVdDD_B8RPHo"
      },
      "execution_count": null,
      "outputs": []
    },
    {
      "cell_type": "code",
      "source": [],
      "metadata": {
        "id": "wrUwZ-ash-fn"
      },
      "execution_count": null,
      "outputs": []
    },
    {
      "cell_type": "code",
      "source": [],
      "metadata": {
        "id": "JMc-b-igQNgo"
      },
      "execution_count": null,
      "outputs": []
    },
    {
      "cell_type": "code",
      "source": [],
      "metadata": {
        "id": "UReplVjWQcKW"
      },
      "execution_count": null,
      "outputs": []
    },
    {
      "cell_type": "code",
      "source": [],
      "metadata": {
        "id": "bG16RVecXqlD"
      },
      "execution_count": null,
      "outputs": []
    },
    {
      "cell_type": "code",
      "source": [],
      "metadata": {
        "id": "cDPgvU0JXqsX"
      },
      "execution_count": null,
      "outputs": []
    },
    {
      "cell_type": "code",
      "source": [],
      "metadata": {
        "id": "Ad35YOnxXqvf"
      },
      "execution_count": null,
      "outputs": []
    },
    {
      "cell_type": "code",
      "source": [],
      "metadata": {
        "id": "u_NtnJg0XqzK"
      },
      "execution_count": null,
      "outputs": []
    },
    {
      "cell_type": "code",
      "source": [],
      "metadata": {
        "id": "llnPnTJSXq1v"
      },
      "execution_count": null,
      "outputs": []
    },
    {
      "cell_type": "code",
      "source": [],
      "metadata": {
        "id": "V9tll6c9Xq4G"
      },
      "execution_count": null,
      "outputs": []
    },
    {
      "cell_type": "code",
      "source": [],
      "metadata": {
        "id": "2bcpbgr9Xq7E"
      },
      "execution_count": null,
      "outputs": []
    },
    {
      "cell_type": "code",
      "source": [],
      "metadata": {
        "id": "koIqXcD7Xq9S"
      },
      "execution_count": null,
      "outputs": []
    },
    {
      "cell_type": "code",
      "source": [],
      "metadata": {
        "id": "OejM_AfnXq_9"
      },
      "execution_count": null,
      "outputs": []
    },
    {
      "cell_type": "code",
      "source": [],
      "metadata": {
        "id": "pFDYX6tjXrCj"
      },
      "execution_count": null,
      "outputs": []
    },
    {
      "cell_type": "code",
      "source": [],
      "metadata": {
        "id": "fFTk4pldXrFb"
      },
      "execution_count": null,
      "outputs": []
    },
    {
      "cell_type": "code",
      "source": [],
      "metadata": {
        "id": "RdUTzMoBXrHz"
      },
      "execution_count": null,
      "outputs": []
    }
  ]
}